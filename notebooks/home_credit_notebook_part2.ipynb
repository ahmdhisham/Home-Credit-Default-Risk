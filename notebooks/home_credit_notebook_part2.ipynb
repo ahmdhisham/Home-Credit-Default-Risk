{
 "cells": [
  {
   "cell_type": "markdown",
   "metadata": {},
   "source": [
    "# Home Credit Default Risk"
   ]
  },
  {
   "cell_type": "markdown",
   "metadata": {},
   "source": [
    "## Introduction"
   ]
  },
  {
   "cell_type": "markdown",
   "metadata": {},
   "source": [
    "    In this project, we aim to develop a machine learning model to predict the likelihood of a customer defaulting on a home credit loan. This is a classification problem where the target variable is binary, indicating whether the customer will default (1) or not (0).\n",
    "\n",
    "    The notebook is organized into sections for better readability. However, please note that the actual workflow may vary at times, as my thoughts were somewhat scattered throughout the process."
   ]
  },
  {
   "cell_type": "markdown",
   "metadata": {},
   "source": [
    "## Install Packages"
   ]
  },
  {
   "cell_type": "code",
   "execution_count": 1,
   "metadata": {},
   "outputs": [],
   "source": [
    "# ! pip install catboost\n",
    "# ! pip install numpy\n",
    "# ! pip install pandas\n",
    "# ! pip install matplotlib\n",
    "# ! pip install seaborn\n",
    "# ! pip install scikit-learn"
   ]
  },
  {
   "cell_type": "markdown",
   "metadata": {},
   "source": [
    "## Define Variables"
   ]
  },
  {
   "cell_type": "code",
   "execution_count": 2,
   "metadata": {},
   "outputs": [],
   "source": [
    "# Define thresholds for Z-score (e.g., 3 and -3)\n",
    "POSITVE_THRESHOLD = 3\n",
    "NEGATIVE_THRESHOLD = -3"
   ]
  },
  {
   "cell_type": "markdown",
   "metadata": {},
   "source": [
    "## Define Paths"
   ]
  },
  {
   "cell_type": "code",
   "execution_count": 3,
   "metadata": {},
   "outputs": [],
   "source": [
    "# Application_train table path \n",
    "APPLICATION_TRAIN_DATA_PATH = '../data/interim/df_last.csv'\n",
    "\n",
    "# Application_train table path \n",
    "BUREAU_DATA_PATH = '../data/raw/bureau.csv'\n",
    "\n",
    "# Application_train table path \n",
    "PREVIOUS_APPLICATION_DATA_PATH = '../data/raw/previous_application.csv'\n",
    "\n",
    "# Processed data directory\n",
    "PROCESSED_DIR = '../data/processed'\n",
    "\n",
    "# Model Directory\n",
    "MODEL_DIR = '../models'"
   ]
  },
  {
   "cell_type": "markdown",
   "metadata": {},
   "source": [
    "## Define Functions"
   ]
  },
  {
   "cell_type": "code",
   "execution_count": 4,
   "metadata": {},
   "outputs": [],
   "source": [
    "def explore(x):\n",
    "    \"\"\"\n",
    "    This function takes a dataframe as an input and\n",
    "    return shape and info about the columns in the dataframe.\n",
    "\n",
    "    Args:\n",
    "    x (dataframe): The input dataframe to be explored.\n",
    "    \"\"\"\n",
    "    print(x.info(), '\\n\\nShape:', x.shape)"
   ]
  },
  {
   "cell_type": "code",
   "execution_count": 5,
   "metadata": {},
   "outputs": [],
   "source": [
    "def nulls_percentage(x):\n",
    "    \"\"\" \n",
    "    This function returns the nulls total count for each column \n",
    "    and it's percentage\n",
    "\n",
    "    Args:\n",
    "        x (dataframe): The input dataframe to calculate nulls count for each column.\n",
    "\n",
    "    Returns:\n",
    "        dataframe: nulls count and percentage for each column in the input dataframe.\n",
    "\n",
    "    Example:\n",
    "    * nulls_percentage(df)\n",
    "    \n",
    "    .\n",
    "    \"\"\"\n",
    "    y = x.isnull().sum().sort_values(ascending=False)\n",
    "    y = y.to_frame(name='Missing_Values')\n",
    "    y['Percentage %'] = y['Missing_Values']/x.shape[0]*100\n",
    "    return y"
   ]
  },
  {
   "cell_type": "code",
   "execution_count": 6,
   "metadata": {},
   "outputs": [],
   "source": [
    "def nulls_drop(data, x):\n",
    "    \"\"\"\n",
    "    This function drops the columns with null values greater than x percentage.\n",
    "\n",
    "    Args:\n",
    "        data (dataframe): The input dataframe.\n",
    "        x (float): The threshold value (the null percentage value in decimal of which you want to drop null percentages above).\n",
    "\n",
    "    Returns:\n",
    "        data (dataframe): Cleaned dataframe (after dropping columns having a null percentage above the desired threshold value).\n",
    "\n",
    "    Example:\n",
    "    * nulls_drop(df , 0.7)   ---> drop columns with nulls percentage above 70%.\n",
    "\n",
    "    .\n",
    "    \"\"\"\n",
    "\n",
    "    # calculate the threshold number of non-null values needed (x% of the column values)\n",
    "    threshold = int((1-x) * data.shape[0])\n",
    "    # drop columns above certain threshold\n",
    "    data.dropna(axis=1, thresh=threshold, inplace= True)\n",
    "    # show the cleaned dataframe\n",
    "    return data"
   ]
  },
  {
   "cell_type": "code",
   "execution_count": 7,
   "metadata": {},
   "outputs": [],
   "source": [
    "def repeat_percentage(data, x=''):\n",
    "    \"\"\"    \n",
    "    This function determines the percentage of occurrence for each unique value within a specific column.\n",
    "\n",
    "    Args:\n",
    "        data (dataframe): The input dataframe.\n",
    "        x (str): The specific column name you want to check repeated values in it. Defaults to ''.\n",
    "\n",
    "    Returns:\n",
    "        Pandas Series: Pandas series indicating the percentage of occurrence for each unique value within a specific column.\n",
    "\n",
    "    Example:\n",
    "    * repeat_percentage(df , 'NAME_CONTRACT_TYPE')\n",
    "\n",
    "    .\n",
    "    \"\"\"\n",
    "    return (data[x].value_counts()*100)/data.shape[0]"
   ]
  },
  {
   "cell_type": "code",
   "execution_count": 8,
   "metadata": {},
   "outputs": [],
   "source": [
    "def correlation(data, x=[], y=''):\n",
    "    \"\"\"\n",
    "    This function calculates the correlation between numerical variables (features) in a dataset.\n",
    "\n",
    "    Args:\n",
    "        data (dataframe): The input dataframe.\n",
    "        x (list): The list of columns you want to measure the correlation between. Defaults to [].\n",
    "        y (str): The target column in which you want to measure correlation within (must exist in the x list also). Defaults to ''.\n",
    "\n",
    "    Returns:\n",
    "        dataframe: A dataframe containing the percentage of correlation, indicating whether it is a negative or positive correlation. (from -1 to 1).\n",
    "    \n",
    "    Example:\n",
    "    * correlation(df , [ 'EXT_SOURCE_3' , 'EXT_SOURCE_2' , 'EXT_SOURCE_1' , 'TARGET' ] , 'TARGET')\n",
    "\n",
    "    .\n",
    "    \"\"\"\n",
    "    return data.loc[:,x].corr().sort_values(by= y, axis=0, ascending=False)\n"
   ]
  },
  {
   "cell_type": "code",
   "execution_count": 9,
   "metadata": {},
   "outputs": [],
   "source": [
    "def relation(data, x='', y=None):\n",
    "  \"\"\" \n",
    "  This function evaluates the relation between a value or a class in a specific column with the different classes in the \"TARGET\" column for analysis purpose.\n",
    "  \n",
    "\n",
    "  Args:\n",
    "      data (dataframe): The input dataframe.\n",
    "      x (str): The desired column (feature). Defaults to ''.\n",
    "      y (str, int or float): The desired value you want to evaluate with the target column whether it is a string, integer or a float. Defaults to None.\n",
    "\n",
    "  Example:\n",
    "   * relation(df, x='feature1', y=1)\n",
    "\n",
    "   * relation(df_application_train, x='ORGANIZATION_TYPE', y='Postal')\n",
    "\n",
    "  .\n",
    "  \"\"\"\n",
    "  print('relation between ' , y , ' and TARGET\\n' ,data[data[x] == y][\"TARGET\"].value_counts(normalize=True),'\\n')"
   ]
  },
  {
   "cell_type": "code",
   "execution_count": 10,
   "metadata": {},
   "outputs": [],
   "source": [
    "def corr_heatmap(data, threshold):\n",
    "  \"\"\"  \n",
    "  This function takes your numerical dataframe as an input, and plot a correlation heatmap figure for analysis purposes.\n",
    "\n",
    "\n",
    "  Args:\n",
    "      data (dataframe): The input dataframe (must contain numerical features only).\n",
    "      threshold (float): enter the threshold value and tune it as needed.\n",
    "\n",
    "  Example:\n",
    "      corr_heatmap(data= df, threshold= 0.5)\n",
    "\n",
    "  \n",
    "  .\n",
    "  \"\"\"\n",
    "  # create correlation matrix with abs values\n",
    "  corr_matrix = data.corr().abs()\n",
    "  # filter the matrix due to threshold value\n",
    "  filtered_corr_df = corr_matrix[(corr_matrix >= threshold) & (corr_matrix != 1.000)]\n",
    "\n",
    "  plt.figure(figsize=(18,10))\n",
    "  sns.heatmap(filtered_corr_df, annot=True, cmap=\"Reds\")\n",
    "  plt.show()"
   ]
  },
  {
   "cell_type": "markdown",
   "metadata": {},
   "source": [
    "## Import Packages"
   ]
  },
  {
   "cell_type": "code",
   "execution_count": 11,
   "metadata": {},
   "outputs": [],
   "source": [
    "import pandas as pd\n",
    "import numpy as np\n",
    "\n",
    "import matplotlib.pyplot as plt\n",
    "import seaborn as sns\n",
    "\n",
    "from sklearn.preprocessing import RobustScaler\n",
    "from sklearn.model_selection import train_test_split\n",
    "from sklearn.metrics import classification_report, roc_auc_score, roc_curve\n",
    "from catboost import CatBoostClassifier\n",
    "\n",
    "import warnings\n",
    "warnings.filterwarnings('ignore')"
   ]
  },
  {
   "cell_type": "code",
   "execution_count": 12,
   "metadata": {},
   "outputs": [],
   "source": [
    "pd.set_option('display.max_columns', None)"
   ]
  },
  {
   "cell_type": "markdown",
   "metadata": {},
   "source": [
    "## 1. Load Data"
   ]
  },
  {
   "cell_type": "code",
   "execution_count": 13,
   "metadata": {},
   "outputs": [],
   "source": [
    "df_application_train = pd.read_csv(APPLICATION_TRAIN_DATA_PATH)"
   ]
  },
  {
   "cell_type": "code",
   "execution_count": 14,
   "metadata": {},
   "outputs": [],
   "source": [
    "df_bureau = pd.read_csv(BUREAU_DATA_PATH)"
   ]
  },
  {
   "cell_type": "code",
   "execution_count": 15,
   "metadata": {},
   "outputs": [],
   "source": [
    "df_previous_application = pd.read_csv(PREVIOUS_APPLICATION_DATA_PATH)"
   ]
  },
  {
   "cell_type": "markdown",
   "metadata": {},
   "source": [
    "## 2. Explore Data "
   ]
  },
  {
   "cell_type": "markdown",
   "metadata": {},
   "source": [
    "### 2.1 General Exploration"
   ]
  },
  {
   "cell_type": "markdown",
   "metadata": {},
   "source": [
    "    Explore the data using Python and Microsoft Excel to come out with insights about the data"
   ]
  },
  {
   "cell_type": "code",
   "execution_count": 16,
   "metadata": {},
   "outputs": [
    {
     "data": {
      "text/html": [
       "<div>\n",
       "<style scoped>\n",
       "    .dataframe tbody tr th:only-of-type {\n",
       "        vertical-align: middle;\n",
       "    }\n",
       "\n",
       "    .dataframe tbody tr th {\n",
       "        vertical-align: top;\n",
       "    }\n",
       "\n",
       "    .dataframe thead th {\n",
       "        text-align: right;\n",
       "    }\n",
       "</style>\n",
       "<table border=\"1\" class=\"dataframe\">\n",
       "  <thead>\n",
       "    <tr style=\"text-align: right;\">\n",
       "      <th></th>\n",
       "      <th>SK_ID_CURR</th>\n",
       "      <th>TARGET</th>\n",
       "      <th>CNT_CHILDREN</th>\n",
       "      <th>AMT_INCOME_TOTAL</th>\n",
       "      <th>AMT_CREDIT</th>\n",
       "      <th>AMT_ANNUITY</th>\n",
       "      <th>AMT_GOODS_PRICE</th>\n",
       "      <th>REGION_POPULATION_RELATIVE</th>\n",
       "      <th>YEARS_BIRTH</th>\n",
       "      <th>YEARS_EMPLOYED</th>\n",
       "      <th>OWN_CAR_AGE</th>\n",
       "      <th>CNT_FAM_MEMBERS</th>\n",
       "      <th>EXT_SOURCE_2</th>\n",
       "      <th>EXT_SOURCE_3</th>\n",
       "      <th>LIVINGAREA_AVG</th>\n",
       "      <th>TOTALAREA_MODE</th>\n",
       "      <th>OBS_30_CNT_SOCIAL_CIRCLE</th>\n",
       "      <th>DEF_30_CNT_SOCIAL_CIRCLE</th>\n",
       "      <th>OBS_60_CNT_SOCIAL_CIRCLE</th>\n",
       "      <th>DEF_60_CNT_SOCIAL_CIRCLE</th>\n",
       "      <th>AMT_REQ_CREDIT_BUREAU_YEAR</th>\n",
       "      <th>YEARS_REGISTRATION</th>\n",
       "      <th>YEARS_ID_PUBLISH</th>\n",
       "      <th>REGION_RATING_CLIENT</th>\n",
       "      <th>REGION_RATING_CLIENT_W_CITY</th>\n",
       "      <th>REG_REGION_NOT_LIVE_REGION</th>\n",
       "      <th>REG_REGION_NOT_WORK_REGION</th>\n",
       "      <th>LIVE_REGION_NOT_WORK_REGION</th>\n",
       "      <th>NAME_CONTRACT_TYPE</th>\n",
       "      <th>CODE_GENDER</th>\n",
       "      <th>FLAG_OWN_CAR</th>\n",
       "      <th>FLAG_OWN_REALTY</th>\n",
       "      <th>NAME_TYPE_SUITE</th>\n",
       "      <th>NAME_INCOME_TYPE</th>\n",
       "      <th>NAME_FAMILY_STATUS</th>\n",
       "      <th>NAME_HOUSING_TYPE</th>\n",
       "      <th>OCCUPATION_TYPE</th>\n",
       "      <th>ORGANIZATION_TYPE</th>\n",
       "    </tr>\n",
       "  </thead>\n",
       "  <tbody>\n",
       "    <tr>\n",
       "      <th>0</th>\n",
       "      <td>100002</td>\n",
       "      <td>1</td>\n",
       "      <td>0</td>\n",
       "      <td>202500.0</td>\n",
       "      <td>406597.5</td>\n",
       "      <td>24700.5</td>\n",
       "      <td>351000.0</td>\n",
       "      <td>0.018801</td>\n",
       "      <td>25.920548</td>\n",
       "      <td>1.745205</td>\n",
       "      <td>NaN</td>\n",
       "      <td>1</td>\n",
       "      <td>0.262949</td>\n",
       "      <td>0.139376</td>\n",
       "      <td>0.0190</td>\n",
       "      <td>0.014900</td>\n",
       "      <td>2</td>\n",
       "      <td>2</td>\n",
       "      <td>2</td>\n",
       "      <td>2</td>\n",
       "      <td>1</td>\n",
       "      <td>9.994521</td>\n",
       "      <td>5.808219</td>\n",
       "      <td>2</td>\n",
       "      <td>2</td>\n",
       "      <td>0</td>\n",
       "      <td>0</td>\n",
       "      <td>0</td>\n",
       "      <td>Cash loans</td>\n",
       "      <td>M</td>\n",
       "      <td>N</td>\n",
       "      <td>Y</td>\n",
       "      <td>Unaccompanied</td>\n",
       "      <td>Working</td>\n",
       "      <td>Single / not married</td>\n",
       "      <td>House / apartment</td>\n",
       "      <td>Laborers</td>\n",
       "      <td>Business Entity Type 3</td>\n",
       "    </tr>\n",
       "    <tr>\n",
       "      <th>1</th>\n",
       "      <td>100003</td>\n",
       "      <td>0</td>\n",
       "      <td>0</td>\n",
       "      <td>270000.0</td>\n",
       "      <td>1293502.5</td>\n",
       "      <td>35698.5</td>\n",
       "      <td>1129500.0</td>\n",
       "      <td>0.003541</td>\n",
       "      <td>45.931507</td>\n",
       "      <td>3.254795</td>\n",
       "      <td>NaN</td>\n",
       "      <td>2</td>\n",
       "      <td>0.622246</td>\n",
       "      <td>0.380545</td>\n",
       "      <td>0.0549</td>\n",
       "      <td>0.071400</td>\n",
       "      <td>1</td>\n",
       "      <td>0</td>\n",
       "      <td>1</td>\n",
       "      <td>0</td>\n",
       "      <td>0</td>\n",
       "      <td>3.249315</td>\n",
       "      <td>0.797260</td>\n",
       "      <td>1</td>\n",
       "      <td>1</td>\n",
       "      <td>0</td>\n",
       "      <td>0</td>\n",
       "      <td>0</td>\n",
       "      <td>Cash loans</td>\n",
       "      <td>F</td>\n",
       "      <td>N</td>\n",
       "      <td>N</td>\n",
       "      <td>Family</td>\n",
       "      <td>State servant</td>\n",
       "      <td>Married</td>\n",
       "      <td>House / apartment</td>\n",
       "      <td>Core staff</td>\n",
       "      <td>School</td>\n",
       "    </tr>\n",
       "    <tr>\n",
       "      <th>2</th>\n",
       "      <td>100004</td>\n",
       "      <td>0</td>\n",
       "      <td>0</td>\n",
       "      <td>67500.0</td>\n",
       "      <td>135000.0</td>\n",
       "      <td>6750.0</td>\n",
       "      <td>135000.0</td>\n",
       "      <td>0.010032</td>\n",
       "      <td>52.180822</td>\n",
       "      <td>0.616438</td>\n",
       "      <td>26.0</td>\n",
       "      <td>1</td>\n",
       "      <td>0.555912</td>\n",
       "      <td>0.729567</td>\n",
       "      <td>0.0745</td>\n",
       "      <td>0.068559</td>\n",
       "      <td>0</td>\n",
       "      <td>0</td>\n",
       "      <td>0</td>\n",
       "      <td>0</td>\n",
       "      <td>0</td>\n",
       "      <td>11.671233</td>\n",
       "      <td>6.934247</td>\n",
       "      <td>2</td>\n",
       "      <td>2</td>\n",
       "      <td>0</td>\n",
       "      <td>0</td>\n",
       "      <td>0</td>\n",
       "      <td>Revolving loans</td>\n",
       "      <td>M</td>\n",
       "      <td>Y</td>\n",
       "      <td>Y</td>\n",
       "      <td>Unaccompanied</td>\n",
       "      <td>Working</td>\n",
       "      <td>Single / not married</td>\n",
       "      <td>House / apartment</td>\n",
       "      <td>Laborers</td>\n",
       "      <td>Government</td>\n",
       "    </tr>\n",
       "    <tr>\n",
       "      <th>3</th>\n",
       "      <td>100006</td>\n",
       "      <td>0</td>\n",
       "      <td>0</td>\n",
       "      <td>135000.0</td>\n",
       "      <td>312682.5</td>\n",
       "      <td>29686.5</td>\n",
       "      <td>297000.0</td>\n",
       "      <td>0.008019</td>\n",
       "      <td>52.068493</td>\n",
       "      <td>8.326027</td>\n",
       "      <td>NaN</td>\n",
       "      <td>2</td>\n",
       "      <td>0.650442</td>\n",
       "      <td>0.451486</td>\n",
       "      <td>0.0745</td>\n",
       "      <td>0.068800</td>\n",
       "      <td>2</td>\n",
       "      <td>0</td>\n",
       "      <td>2</td>\n",
       "      <td>0</td>\n",
       "      <td>1</td>\n",
       "      <td>26.939726</td>\n",
       "      <td>6.676712</td>\n",
       "      <td>2</td>\n",
       "      <td>2</td>\n",
       "      <td>0</td>\n",
       "      <td>0</td>\n",
       "      <td>0</td>\n",
       "      <td>Cash loans</td>\n",
       "      <td>F</td>\n",
       "      <td>N</td>\n",
       "      <td>Y</td>\n",
       "      <td>Unaccompanied</td>\n",
       "      <td>Working</td>\n",
       "      <td>Civil marriage</td>\n",
       "      <td>House / apartment</td>\n",
       "      <td>Laborers</td>\n",
       "      <td>Business Entity Type 3</td>\n",
       "    </tr>\n",
       "    <tr>\n",
       "      <th>4</th>\n",
       "      <td>100007</td>\n",
       "      <td>0</td>\n",
       "      <td>0</td>\n",
       "      <td>121500.0</td>\n",
       "      <td>513000.0</td>\n",
       "      <td>21865.5</td>\n",
       "      <td>513000.0</td>\n",
       "      <td>0.028663</td>\n",
       "      <td>54.608219</td>\n",
       "      <td>8.323288</td>\n",
       "      <td>NaN</td>\n",
       "      <td>1</td>\n",
       "      <td>0.322738</td>\n",
       "      <td>0.451486</td>\n",
       "      <td>0.0745</td>\n",
       "      <td>0.068800</td>\n",
       "      <td>0</td>\n",
       "      <td>0</td>\n",
       "      <td>0</td>\n",
       "      <td>0</td>\n",
       "      <td>0</td>\n",
       "      <td>11.810959</td>\n",
       "      <td>9.473973</td>\n",
       "      <td>2</td>\n",
       "      <td>2</td>\n",
       "      <td>0</td>\n",
       "      <td>0</td>\n",
       "      <td>0</td>\n",
       "      <td>Cash loans</td>\n",
       "      <td>M</td>\n",
       "      <td>N</td>\n",
       "      <td>Y</td>\n",
       "      <td>Unaccompanied</td>\n",
       "      <td>Working</td>\n",
       "      <td>Single / not married</td>\n",
       "      <td>House / apartment</td>\n",
       "      <td>Core staff</td>\n",
       "      <td>Religion</td>\n",
       "    </tr>\n",
       "  </tbody>\n",
       "</table>\n",
       "</div>"
      ],
      "text/plain": [
       "   SK_ID_CURR  TARGET  CNT_CHILDREN  AMT_INCOME_TOTAL  AMT_CREDIT  \\\n",
       "0      100002       1             0          202500.0    406597.5   \n",
       "1      100003       0             0          270000.0   1293502.5   \n",
       "2      100004       0             0           67500.0    135000.0   \n",
       "3      100006       0             0          135000.0    312682.5   \n",
       "4      100007       0             0          121500.0    513000.0   \n",
       "\n",
       "   AMT_ANNUITY  AMT_GOODS_PRICE  REGION_POPULATION_RELATIVE  YEARS_BIRTH  \\\n",
       "0      24700.5         351000.0                    0.018801    25.920548   \n",
       "1      35698.5        1129500.0                    0.003541    45.931507   \n",
       "2       6750.0         135000.0                    0.010032    52.180822   \n",
       "3      29686.5         297000.0                    0.008019    52.068493   \n",
       "4      21865.5         513000.0                    0.028663    54.608219   \n",
       "\n",
       "   YEARS_EMPLOYED  OWN_CAR_AGE  CNT_FAM_MEMBERS  EXT_SOURCE_2  EXT_SOURCE_3  \\\n",
       "0        1.745205          NaN                1      0.262949      0.139376   \n",
       "1        3.254795          NaN                2      0.622246      0.380545   \n",
       "2        0.616438         26.0                1      0.555912      0.729567   \n",
       "3        8.326027          NaN                2      0.650442      0.451486   \n",
       "4        8.323288          NaN                1      0.322738      0.451486   \n",
       "\n",
       "   LIVINGAREA_AVG  TOTALAREA_MODE  OBS_30_CNT_SOCIAL_CIRCLE  \\\n",
       "0          0.0190        0.014900                         2   \n",
       "1          0.0549        0.071400                         1   \n",
       "2          0.0745        0.068559                         0   \n",
       "3          0.0745        0.068800                         2   \n",
       "4          0.0745        0.068800                         0   \n",
       "\n",
       "   DEF_30_CNT_SOCIAL_CIRCLE  OBS_60_CNT_SOCIAL_CIRCLE  \\\n",
       "0                         2                         2   \n",
       "1                         0                         1   \n",
       "2                         0                         0   \n",
       "3                         0                         2   \n",
       "4                         0                         0   \n",
       "\n",
       "   DEF_60_CNT_SOCIAL_CIRCLE  AMT_REQ_CREDIT_BUREAU_YEAR  YEARS_REGISTRATION  \\\n",
       "0                         2                           1            9.994521   \n",
       "1                         0                           0            3.249315   \n",
       "2                         0                           0           11.671233   \n",
       "3                         0                           1           26.939726   \n",
       "4                         0                           0           11.810959   \n",
       "\n",
       "   YEARS_ID_PUBLISH  REGION_RATING_CLIENT  REGION_RATING_CLIENT_W_CITY  \\\n",
       "0          5.808219                     2                            2   \n",
       "1          0.797260                     1                            1   \n",
       "2          6.934247                     2                            2   \n",
       "3          6.676712                     2                            2   \n",
       "4          9.473973                     2                            2   \n",
       "\n",
       "   REG_REGION_NOT_LIVE_REGION  REG_REGION_NOT_WORK_REGION  \\\n",
       "0                           0                           0   \n",
       "1                           0                           0   \n",
       "2                           0                           0   \n",
       "3                           0                           0   \n",
       "4                           0                           0   \n",
       "\n",
       "   LIVE_REGION_NOT_WORK_REGION NAME_CONTRACT_TYPE CODE_GENDER FLAG_OWN_CAR  \\\n",
       "0                            0         Cash loans           M            N   \n",
       "1                            0         Cash loans           F            N   \n",
       "2                            0    Revolving loans           M            Y   \n",
       "3                            0         Cash loans           F            N   \n",
       "4                            0         Cash loans           M            N   \n",
       "\n",
       "  FLAG_OWN_REALTY NAME_TYPE_SUITE NAME_INCOME_TYPE    NAME_FAMILY_STATUS  \\\n",
       "0               Y   Unaccompanied          Working  Single / not married   \n",
       "1               N          Family    State servant               Married   \n",
       "2               Y   Unaccompanied          Working  Single / not married   \n",
       "3               Y   Unaccompanied          Working        Civil marriage   \n",
       "4               Y   Unaccompanied          Working  Single / not married   \n",
       "\n",
       "   NAME_HOUSING_TYPE OCCUPATION_TYPE       ORGANIZATION_TYPE  \n",
       "0  House / apartment        Laborers  Business Entity Type 3  \n",
       "1  House / apartment      Core staff                  School  \n",
       "2  House / apartment        Laborers              Government  \n",
       "3  House / apartment        Laborers  Business Entity Type 3  \n",
       "4  House / apartment      Core staff                Religion  "
      ]
     },
     "execution_count": 16,
     "metadata": {},
     "output_type": "execute_result"
    }
   ],
   "source": [
    "df_application_train.head()"
   ]
  },
  {
   "cell_type": "code",
   "execution_count": 17,
   "metadata": {},
   "outputs": [
    {
     "name": "stdout",
     "output_type": "stream",
     "text": [
      "<class 'pandas.core.frame.DataFrame'>\n",
      "RangeIndex: 307507 entries, 0 to 307506\n",
      "Data columns (total 38 columns):\n",
      " #   Column                       Non-Null Count   Dtype  \n",
      "---  ------                       --------------   -----  \n",
      " 0   SK_ID_CURR                   307507 non-null  int64  \n",
      " 1   TARGET                       307507 non-null  int64  \n",
      " 2   CNT_CHILDREN                 307507 non-null  int64  \n",
      " 3   AMT_INCOME_TOTAL             307507 non-null  float64\n",
      " 4   AMT_CREDIT                   307507 non-null  float64\n",
      " 5   AMT_ANNUITY                  307507 non-null  float64\n",
      " 6   AMT_GOODS_PRICE              307507 non-null  float64\n",
      " 7   REGION_POPULATION_RELATIVE   307507 non-null  float64\n",
      " 8   YEARS_BIRTH                  307507 non-null  float64\n",
      " 9   YEARS_EMPLOYED               307507 non-null  float64\n",
      " 10  OWN_CAR_AGE                  104585 non-null  float64\n",
      " 11  CNT_FAM_MEMBERS              307507 non-null  int64  \n",
      " 12  EXT_SOURCE_2                 307507 non-null  float64\n",
      " 13  EXT_SOURCE_3                 307507 non-null  float64\n",
      " 14  LIVINGAREA_AVG               307507 non-null  float64\n",
      " 15  TOTALAREA_MODE               307507 non-null  float64\n",
      " 16  OBS_30_CNT_SOCIAL_CIRCLE     307507 non-null  int64  \n",
      " 17  DEF_30_CNT_SOCIAL_CIRCLE     307507 non-null  int64  \n",
      " 18  OBS_60_CNT_SOCIAL_CIRCLE     307507 non-null  int64  \n",
      " 19  DEF_60_CNT_SOCIAL_CIRCLE     307507 non-null  int64  \n",
      " 20  AMT_REQ_CREDIT_BUREAU_YEAR   307507 non-null  int64  \n",
      " 21  YEARS_REGISTRATION           307507 non-null  float64\n",
      " 22  YEARS_ID_PUBLISH             307507 non-null  float64\n",
      " 23  REGION_RATING_CLIENT         307507 non-null  int64  \n",
      " 24  REGION_RATING_CLIENT_W_CITY  307507 non-null  int64  \n",
      " 25  REG_REGION_NOT_LIVE_REGION   307507 non-null  int64  \n",
      " 26  REG_REGION_NOT_WORK_REGION   307507 non-null  int64  \n",
      " 27  LIVE_REGION_NOT_WORK_REGION  307507 non-null  int64  \n",
      " 28  NAME_CONTRACT_TYPE           307507 non-null  object \n",
      " 29  CODE_GENDER                  307507 non-null  object \n",
      " 30  FLAG_OWN_CAR                 307507 non-null  object \n",
      " 31  FLAG_OWN_REALTY              307507 non-null  object \n",
      " 32  NAME_TYPE_SUITE              307507 non-null  object \n",
      " 33  NAME_INCOME_TYPE             307507 non-null  object \n",
      " 34  NAME_FAMILY_STATUS           307507 non-null  object \n",
      " 35  NAME_HOUSING_TYPE            307507 non-null  object \n",
      " 36  OCCUPATION_TYPE              211118 non-null  object \n",
      " 37  ORGANIZATION_TYPE            307507 non-null  object \n",
      "dtypes: float64(14), int64(14), object(10)\n",
      "memory usage: 89.2+ MB\n",
      "None \n",
      "\n",
      "Shape: (307507, 38)\n"
     ]
    }
   ],
   "source": [
    "explore(df_application_train)"
   ]
  },
  {
   "cell_type": "code",
   "execution_count": 18,
   "metadata": {},
   "outputs": [
    {
     "data": {
      "text/plain": [
       "NAME_CONTRACT_TYPE     2\n",
       "CODE_GENDER            2\n",
       "FLAG_OWN_CAR           2\n",
       "FLAG_OWN_REALTY        2\n",
       "NAME_TYPE_SUITE        7\n",
       "NAME_INCOME_TYPE       8\n",
       "NAME_FAMILY_STATUS     6\n",
       "NAME_HOUSING_TYPE      6\n",
       "OCCUPATION_TYPE       18\n",
       "ORGANIZATION_TYPE     58\n",
       "dtype: int64"
      ]
     },
     "execution_count": 18,
     "metadata": {},
     "output_type": "execute_result"
    }
   ],
   "source": [
    "df_application_train.select_dtypes('object').nunique()"
   ]
  },
  {
   "cell_type": "code",
   "execution_count": 19,
   "metadata": {},
   "outputs": [
    {
     "data": {
      "text/plain": [
       "REGION_RATING_CLIENT_W_CITY\n",
       "2    229481\n",
       "3     43859\n",
       "1     34167\n",
       "Name: count, dtype: int64"
      ]
     },
     "execution_count": 19,
     "metadata": {},
     "output_type": "execute_result"
    }
   ],
   "source": [
    "df_application_train['REGION_RATING_CLIENT_W_CITY'].value_counts()"
   ]
  },
  {
   "cell_type": "code",
   "execution_count": 20,
   "metadata": {},
   "outputs": [
    {
     "data": {
      "text/plain": [
       "FLAG_OWN_CAR\n",
       "N    202922\n",
       "Y    104585\n",
       "Name: count, dtype: int64"
      ]
     },
     "execution_count": 20,
     "metadata": {},
     "output_type": "execute_result"
    }
   ],
   "source": [
    "df_application_train['FLAG_OWN_CAR'].value_counts()"
   ]
  },
  {
   "cell_type": "code",
   "execution_count": 21,
   "metadata": {},
   "outputs": [
    {
     "data": {
      "text/plain": [
       "FLAG_OWN_REALTY\n",
       "Y    213308\n",
       "N     94199\n",
       "Name: count, dtype: int64"
      ]
     },
     "execution_count": 21,
     "metadata": {},
     "output_type": "execute_result"
    }
   ],
   "source": [
    "df_application_train['FLAG_OWN_REALTY'].value_counts()"
   ]
  },
  {
   "cell_type": "code",
   "execution_count": 22,
   "metadata": {},
   "outputs": [
    {
     "data": {
      "text/plain": [
       "ORGANIZATION_TYPE\n",
       "Business Entity Type 3    67992\n",
       "XNA                       55374\n",
       "Self-employed             38412\n",
       "Other                     16683\n",
       "Medicine                  11192\n",
       "Business Entity Type 2    10553\n",
       "Government                10404\n",
       "School                     8893\n",
       "Trade: type 7              7831\n",
       "Kindergarten               6879\n",
       "Construction               6721\n",
       "Business Entity Type 1     5983\n",
       "Transport: type 4          5398\n",
       "Trade: type 3              3492\n",
       "Industry: type 9           3368\n",
       "Industry: type 3           3277\n",
       "Security                   3247\n",
       "Housing                    2958\n",
       "Industry: type 11          2704\n",
       "Military                   2634\n",
       "Bank                       2507\n",
       "Agriculture                2454\n",
       "Police                     2341\n",
       "Transport: type 2          2204\n",
       "Postal                     2157\n",
       "Security Ministries        1974\n",
       "Trade: type 2              1900\n",
       "Restaurant                 1811\n",
       "Services                   1575\n",
       "University                 1327\n",
       "Industry: type 7           1307\n",
       "Transport: type 3          1187\n",
       "Industry: type 1           1039\n",
       "Hotel                       966\n",
       "Electricity                 950\n",
       "Industry: type 4            877\n",
       "Trade: type 6               631\n",
       "Industry: type 5            599\n",
       "Insurance                   597\n",
       "Telecom                     577\n",
       "Emergency                   560\n",
       "Industry: type 2            458\n",
       "Advertising                 429\n",
       "Realtor                     396\n",
       "Culture                     379\n",
       "Industry: type 12           369\n",
       "Trade: type 1               348\n",
       "Mobile                      317\n",
       "Legal Services              305\n",
       "Cleaning                    260\n",
       "Transport: type 1           201\n",
       "Industry: type 6            112\n",
       "Industry: type 10           109\n",
       "Religion                     85\n",
       "Industry: type 13            67\n",
       "Trade: type 4                64\n",
       "Trade: type 5                49\n",
       "Industry: type 8             24\n",
       "Name: count, dtype: int64"
      ]
     },
     "execution_count": 22,
     "metadata": {},
     "output_type": "execute_result"
    }
   ],
   "source": [
    "df_application_train['ORGANIZATION_TYPE'].value_counts()"
   ]
  },
  {
   "cell_type": "markdown",
   "metadata": {},
   "source": [
    "### 2.2 Verify Repeated Values"
   ]
  },
  {
   "cell_type": "markdown",
   "metadata": {},
   "source": [
    "    Check repeated values percentages"
   ]
  },
  {
   "cell_type": "code",
   "execution_count": 23,
   "metadata": {},
   "outputs": [
    {
     "data": {
      "text/plain": [
       "NAME_CONTRACT_TYPE\n",
       "Cash loans         90.479892\n",
       "Revolving loans     9.520108\n",
       "Name: count, dtype: float64"
      ]
     },
     "execution_count": 23,
     "metadata": {},
     "output_type": "execute_result"
    }
   ],
   "source": [
    "repeat_percentage(df_application_train, 'NAME_CONTRACT_TYPE')"
   ]
  },
  {
   "cell_type": "code",
   "execution_count": 24,
   "metadata": {},
   "outputs": [
    {
     "data": {
      "text/plain": [
       "REG_REGION_NOT_LIVE_REGION\n",
       "0    98.485563\n",
       "1     1.514437\n",
       "Name: count, dtype: float64"
      ]
     },
     "execution_count": 24,
     "metadata": {},
     "output_type": "execute_result"
    }
   ],
   "source": [
    "repeat_percentage(df_application_train, 'REG_REGION_NOT_LIVE_REGION')"
   ]
  },
  {
   "cell_type": "code",
   "execution_count": 25,
   "metadata": {},
   "outputs": [
    {
     "data": {
      "text/plain": [
       "REG_REGION_NOT_WORK_REGION\n",
       "0    94.923042\n",
       "1     5.076958\n",
       "Name: count, dtype: float64"
      ]
     },
     "execution_count": 25,
     "metadata": {},
     "output_type": "execute_result"
    }
   ],
   "source": [
    "repeat_percentage(df_application_train, 'REG_REGION_NOT_WORK_REGION')"
   ]
  },
  {
   "cell_type": "code",
   "execution_count": 26,
   "metadata": {},
   "outputs": [
    {
     "data": {
      "text/plain": [
       "NAME_HOUSING_TYPE\n",
       "House / apartment      88.734565\n",
       "With parents            4.825906\n",
       "Municipal apartment     3.636340\n",
       "Rented apartment        1.587281\n",
       "Office apartment        0.851038\n",
       "Co-op apartment         0.364870\n",
       "Name: count, dtype: float64"
      ]
     },
     "execution_count": 26,
     "metadata": {},
     "output_type": "execute_result"
    }
   ],
   "source": [
    "repeat_percentage(df_application_train, 'NAME_HOUSING_TYPE')"
   ]
  },
  {
   "cell_type": "code",
   "execution_count": 27,
   "metadata": {},
   "outputs": [
    {
     "data": {
      "text/plain": [
       "NAME_INCOME_TYPE\n",
       "Working                 51.631670\n",
       "Commercial associate    23.289226\n",
       "Pensioner               18.003493\n",
       "State servant            7.057726\n",
       "Unemployed               0.007154\n",
       "Student                  0.005854\n",
       "Businessman              0.003252\n",
       "Maternity leave          0.001626\n",
       "Name: count, dtype: float64"
      ]
     },
     "execution_count": 27,
     "metadata": {},
     "output_type": "execute_result"
    }
   ],
   "source": [
    "repeat_percentage(df_application_train, 'NAME_INCOME_TYPE')"
   ]
  },
  {
   "cell_type": "code",
   "execution_count": 28,
   "metadata": {},
   "outputs": [
    {
     "data": {
      "text/plain": [
       "OCCUPATION_TYPE\n",
       "Laborers                 17.946258\n",
       "Sales staff              10.439437\n",
       "Core staff                8.965324\n",
       "Managers                  6.949760\n",
       "Drivers                   6.049618\n",
       "High skill tech staff     3.700729\n",
       "Accountants               3.191147\n",
       "Medicine staff            2.776197\n",
       "Security staff            2.185641\n",
       "Cooking staff             1.933615\n",
       "Cleaning staff            1.513136\n",
       "Private service staff     0.862419\n",
       "Low-skill Laborers        0.680310\n",
       "Waiters/barmen staff      0.438364\n",
       "Secretaries               0.424381\n",
       "Realty agents             0.244222\n",
       "HR staff                  0.183085\n",
       "IT staff                  0.171053\n",
       "Name: count, dtype: float64"
      ]
     },
     "execution_count": 28,
     "metadata": {},
     "output_type": "execute_result"
    }
   ],
   "source": [
    "repeat_percentage(df_application_train, 'OCCUPATION_TYPE')"
   ]
  },
  {
   "cell_type": "code",
   "execution_count": 29,
   "metadata": {},
   "outputs": [
    {
     "data": {
      "text/plain": [
       "NAME_TYPE_SUITE\n",
       "Unaccompanied      81.238801\n",
       "Family             13.055963\n",
       "Spouse, partner     3.697477\n",
       "Children            1.062415\n",
       "Other_B             0.575597\n",
       "Other_A             0.281620\n",
       "Group of people     0.088128\n",
       "Name: count, dtype: float64"
      ]
     },
     "execution_count": 29,
     "metadata": {},
     "output_type": "execute_result"
    }
   ],
   "source": [
    "repeat_percentage(df_application_train,'NAME_TYPE_SUITE')"
   ]
  },
  {
   "cell_type": "code",
   "execution_count": 30,
   "metadata": {},
   "outputs": [
    {
     "data": {
      "text/plain": [
       "DEF_60_CNT_SOCIAL_CIRCLE\n",
       "0     91.620679\n",
       "1      7.102277\n",
       "2      1.030871\n",
       "3      0.194467\n",
       "4      0.043576\n",
       "5      0.006504\n",
       "6      0.000976\n",
       "7      0.000325\n",
       "24     0.000325\n",
       "Name: count, dtype: float64"
      ]
     },
     "execution_count": 30,
     "metadata": {},
     "output_type": "execute_result"
    }
   ],
   "source": [
    "repeat_percentage(df_application_train, 'DEF_60_CNT_SOCIAL_CIRCLE')"
   ]
  },
  {
   "cell_type": "markdown",
   "metadata": {},
   "source": [
    "### 2.3 Analyze the Skewness"
   ]
  },
  {
   "cell_type": "markdown",
   "metadata": {},
   "source": [
    "    Analyze the Skewness to assess whether the data follows a normal distribution or not"
   ]
  },
  {
   "cell_type": "code",
   "execution_count": 31,
   "metadata": {},
   "outputs": [],
   "source": [
    "numerical_columns = df_application_train.select_dtypes(['int64','float64'])\n",
    "categorical_columns = df_application_train.select_dtypes('object')"
   ]
  },
  {
   "cell_type": "code",
   "execution_count": 32,
   "metadata": {},
   "outputs": [
    {
     "data": {
      "text/plain": [
       "SK_ID_CURR                      -0.001213\n",
       "TARGET                           3.078133\n",
       "CNT_CHILDREN                     1.974634\n",
       "AMT_INCOME_TOTAL               391.557413\n",
       "AMT_CREDIT                       1.234761\n",
       "AMT_ANNUITY                      1.579809\n",
       "AMT_GOODS_PRICE                  1.350141\n",
       "REGION_POPULATION_RELATIVE       1.488033\n",
       "YEARS_BIRTH                      0.115667\n",
       "YEARS_EMPLOYED                   2.212855\n",
       "OWN_CAR_AGE                      2.745481\n",
       "CNT_FAM_MEMBERS                  0.987559\n",
       "EXT_SOURCE_2                    -0.795936\n",
       "EXT_SOURCE_3                    -0.186780\n",
       "LIVINGAREA_AVG                  10.963572\n",
       "TOTALAREA_MODE                  11.182271\n",
       "OBS_30_CNT_SOCIAL_CIRCLE        12.144696\n",
       "DEF_30_CNT_SOCIAL_CIRCLE         5.192502\n",
       "OBS_60_CNT_SOCIAL_CIRCLE        12.076064\n",
       "DEF_60_CNT_SOCIAL_CIRCLE         5.286464\n",
       "AMT_REQ_CREDIT_BUREAU_YEAR       1.465677\n",
       "YEARS_REGISTRATION               0.590872\n",
       "YEARS_ID_PUBLISH                -0.349330\n",
       "REGION_RATING_CLIENT             0.087463\n",
       "REGION_RATING_CLIENT_W_CITY      0.059724\n",
       "REG_REGION_NOT_LIVE_REGION       7.940222\n",
       "REG_REGION_NOT_WORK_REGION       4.092736\n",
       "LIVE_REGION_NOT_WORK_REGION      4.651586\n",
       "dtype: float64"
      ]
     },
     "execution_count": 32,
     "metadata": {},
     "output_type": "execute_result"
    }
   ],
   "source": [
    "numerical_columns.skew()"
   ]
  },
  {
   "cell_type": "markdown",
   "metadata": {},
   "source": [
    "### 2.4 Histograms"
   ]
  },
  {
   "cell_type": "markdown",
   "metadata": {},
   "source": [
    "    Create a histogram for features that are highly skewed in order to identify potential outliers in the data"
   ]
  },
  {
   "cell_type": "code",
   "execution_count": 33,
   "metadata": {},
   "outputs": [
    {
     "data": {
      "text/plain": [
       "array([[<Axes: title={'center': 'OWN_CAR_AGE'}>]], dtype=object)"
      ]
     },
     "execution_count": 33,
     "metadata": {},
     "output_type": "execute_result"
    },
    {
     "data": {
      "image/png": "[encoded data removed]",
      "text/plain": [
       "<Figure size 640x480 with 1 Axes>"
      ]
     },
     "metadata": {},
     "output_type": "display_data"
    }
   ],
   "source": [
    "pd.DataFrame.hist(df_application_train, column='OWN_CAR_AGE', bins= 20, rwidth=0.95)"
   ]
  },
  {
   "cell_type": "code",
   "execution_count": 34,
   "metadata": {},
   "outputs": [
    {
     "data": {
      "text/plain": [
       "array([[<Axes: title={'center': 'CNT_CHILDREN'}>]], dtype=object)"
      ]
     },
     "execution_count": 34,
     "metadata": {},
     "output_type": "execute_result"
    },
    {
     "data": {
      "image/png": "[encoded data removed]",
      "text/plain": [
       "<Figure size 640x480 with 1 Axes>"
      ]
     },
     "metadata": {},
     "output_type": "display_data"
    }
   ],
   "source": [
    "pd.DataFrame.hist(df_application_train, column='CNT_CHILDREN', bins= 20)"
   ]
  },
  {
   "cell_type": "code",
   "execution_count": 35,
   "metadata": {},
   "outputs": [
    {
     "data": {
      "text/plain": [
       "array([[<Axes: title={'center': 'DEF_60_CNT_SOCIAL_CIRCLE'}>]],\n",
       "      dtype=object)"
      ]
     },
     "execution_count": 35,
     "metadata": {},
     "output_type": "execute_result"
    },
    {
     "data": {
      "image/png": "[encoded data removed]",
      "text/plain": [
       "<Figure size 640x480 with 1 Axes>"
      ]
     },
     "metadata": {},
     "output_type": "display_data"
    }
   ],
   "source": [
    "pd.DataFrame.hist(df_application_train, 'DEF_60_CNT_SOCIAL_CIRCLE', bins=10)"
   ]
  },
  {
   "cell_type": "code",
   "execution_count": 36,
   "metadata": {},
   "outputs": [
    {
     "data": {
      "text/plain": [
       "array([[<Axes: title={'center': 'YEARS_EMPLOYED'}>]], dtype=object)"
      ]
     },
     "execution_count": 36,
     "metadata": {},
     "output_type": "execute_result"
    },
    {
     "data": {
      "image/png": "[encoded data removed]",
      "text/plain": [
       "<Figure size 640x480 with 1 Axes>"
      ]
     },
     "metadata": {},
     "output_type": "display_data"
    }
   ],
   "source": [
    "pd.DataFrame.hist(df_application_train, 'YEARS_EMPLOYED', bins=20)"
   ]
  },
  {
   "cell_type": "code",
   "execution_count": 37,
   "metadata": {},
   "outputs": [
    {
     "data": {
      "text/plain": [
       "array([[<Axes: title={'center': 'TOTALAREA_MODE'}>]], dtype=object)"
      ]
     },
     "execution_count": 37,
     "metadata": {},
     "output_type": "execute_result"
    },
    {
     "data": {
      "image/png": "[encoded data removed]",
      "text/plain": [
       "<Figure size 640x480 with 1 Axes>"
      ]
     },
     "metadata": {},
     "output_type": "display_data"
    }
   ],
   "source": [
    "pd.DataFrame.hist(df_application_train, 'TOTALAREA_MODE', bins=20)"
   ]
  },
  {
   "cell_type": "markdown",
   "metadata": {},
   "source": [
    "### 2.5 Detect Outliers"
   ]
  },
  {
   "cell_type": "markdown",
   "metadata": {},
   "source": [
    "    After analyzing skewness values and histograms across various columns, it is clear that some columns contain anomalous values."
   ]
  },
  {
   "cell_type": "code",
   "execution_count": 38,
   "metadata": {},
   "outputs": [
    {
     "data": {
      "image/png": "[encoded data removed]",
      "text/plain": [
       "<Figure size 640x480 with 1 Axes>"
      ]
     },
     "metadata": {},
     "output_type": "display_data"
    }
   ],
   "source": [
    "# Create a boxplot \n",
    "sns.boxplot(df_application_train['AMT_INCOME_TOTAL'])\n",
    "\n",
    "# Add labels and title\n",
    "plt.ylabel('AMT_INCOME_TOTAL')\n",
    "plt.title('Boxplot AMT_INCOME_TOTAL')\n",
    "\n",
    "# Show the plot\n",
    "plt.show()"
   ]
  },
  {
   "cell_type": "code",
   "execution_count": 39,
   "metadata": {},
   "outputs": [
    {
     "data": {
      "image/png": "[encoded data removed]",
      "text/plain": [
       "<Figure size 640x480 with 1 Axes>"
      ]
     },
     "metadata": {},
     "output_type": "display_data"
    }
   ],
   "source": [
    "# Create a boxplot \n",
    "sns.boxplot(df_application_train['AMT_INCOME_TOTAL'])\n",
    "\n",
    "# Add labels and title\n",
    "plt.ylabel('AMT_INCOME_TOTAL')\n",
    "plt.title('Boxplot AMT_INCOME_TOTAL')\n",
    "\n",
    "# Show the plot\n",
    "plt.show()"
   ]
  },
  {
   "cell_type": "code",
   "execution_count": 40,
   "metadata": {},
   "outputs": [
    {
     "data": {
      "image/png": "[encoded data removed]",
      "text/plain": [
       "<Figure size 640x480 with 1 Axes>"
      ]
     },
     "metadata": {},
     "output_type": "display_data"
    }
   ],
   "source": [
    "# Create a boxplot \n",
    "sns.boxplot(df_application_train['OWN_CAR_AGE'])\n",
    "\n",
    "# Add labels and title\n",
    "plt.ylabel('OWN_CAR_AGE')\n",
    "plt.title('Boxplot OWN_CAR_AGE')\n",
    "\n",
    "# Show the plot\n",
    "plt.show()"
   ]
  },
  {
   "cell_type": "code",
   "execution_count": 41,
   "metadata": {},
   "outputs": [
    {
     "data": {
      "text/plain": [
       "OWN_CAR_AGE\n",
       "7.0     2.415880\n",
       "6.0     2.075400\n",
       "3.0     2.071498\n",
       "8.0     1.914103\n",
       "2.0     1.903046\n",
       "          ...   \n",
       "69.0    0.000325\n",
       "50.0    0.000325\n",
       "47.0    0.000325\n",
       "48.0    0.000325\n",
       "52.0    0.000325\n",
       "Name: count, Length: 62, dtype: float64"
      ]
     },
     "execution_count": 41,
     "metadata": {},
     "output_type": "execute_result"
    }
   ],
   "source": [
    "repeat_percentage(df_application_train, 'OWN_CAR_AGE')"
   ]
  },
  {
   "cell_type": "code",
   "execution_count": 42,
   "metadata": {},
   "outputs": [
    {
     "data": {
      "text/plain": [
       "11.944627462232402"
      ]
     },
     "execution_count": 42,
     "metadata": {},
     "output_type": "execute_result"
    }
   ],
   "source": [
    "np.nanstd(df_application_train.OWN_CAR_AGE.values.tolist())"
   ]
  },
  {
   "cell_type": "code",
   "execution_count": 43,
   "metadata": {},
   "outputs": [
    {
     "data": {
      "text/plain": [
       "12.060878711096237"
      ]
     },
     "execution_count": 43,
     "metadata": {},
     "output_type": "execute_result"
    }
   ],
   "source": [
    "np.nanmean(df_application_train.OWN_CAR_AGE.values)"
   ]
  },
  {
   "cell_type": "code",
   "execution_count": 44,
   "metadata": {},
   "outputs": [
    {
     "data": {
      "text/plain": [
       "0"
      ]
     },
     "execution_count": 44,
     "metadata": {},
     "output_type": "execute_result"
    }
   ],
   "source": [
    "np.isinf(df_application_train[['OWN_CAR_AGE']]).values.sum()"
   ]
  },
  {
   "cell_type": "code",
   "execution_count": 45,
   "metadata": {},
   "outputs": [
    {
     "name": "stdout",
     "output_type": "stream",
     "text": [
      "Mean Credit Score is:  12.060878711096237\n",
      "Std Credit Score is:  11.944627462232402\n"
     ]
    }
   ],
   "source": [
    "# Compute Z Score\n",
    "car_age_mean = np.nanmean(df_application_train.OWN_CAR_AGE.values.tolist())\n",
    "car_age_std = np.nanstd(df_application_train.OWN_CAR_AGE.values.tolist())\n",
    "\n",
    "print(\"Mean Credit Score is: \", car_age_mean)\n",
    "print(\"Std Credit Score is: \", car_age_std)"
   ]
  },
  {
   "cell_type": "code",
   "execution_count": 46,
   "metadata": {},
   "outputs": [
    {
     "data": {
      "text/html": [
       "<div>\n",
       "<style scoped>\n",
       "    .dataframe tbody tr th:only-of-type {\n",
       "        vertical-align: middle;\n",
       "    }\n",
       "\n",
       "    .dataframe tbody tr th {\n",
       "        vertical-align: top;\n",
       "    }\n",
       "\n",
       "    .dataframe thead th {\n",
       "        text-align: right;\n",
       "    }\n",
       "</style>\n",
       "<table border=\"1\" class=\"dataframe\">\n",
       "  <thead>\n",
       "    <tr style=\"text-align: right;\">\n",
       "      <th></th>\n",
       "      <th>SK_ID_CURR</th>\n",
       "      <th>OWN_CAR_AGE</th>\n",
       "      <th>zscore_car_age</th>\n",
       "    </tr>\n",
       "  </thead>\n",
       "  <tbody>\n",
       "    <tr>\n",
       "      <th>0</th>\n",
       "      <td>100002</td>\n",
       "      <td>NaN</td>\n",
       "      <td>NaN</td>\n",
       "    </tr>\n",
       "    <tr>\n",
       "      <th>1</th>\n",
       "      <td>100003</td>\n",
       "      <td>NaN</td>\n",
       "      <td>NaN</td>\n",
       "    </tr>\n",
       "    <tr>\n",
       "      <th>2</th>\n",
       "      <td>100004</td>\n",
       "      <td>26.0</td>\n",
       "      <td>1.166978</td>\n",
       "    </tr>\n",
       "    <tr>\n",
       "      <th>3</th>\n",
       "      <td>100006</td>\n",
       "      <td>NaN</td>\n",
       "      <td>NaN</td>\n",
       "    </tr>\n",
       "    <tr>\n",
       "      <th>4</th>\n",
       "      <td>100007</td>\n",
       "      <td>NaN</td>\n",
       "      <td>NaN</td>\n",
       "    </tr>\n",
       "  </tbody>\n",
       "</table>\n",
       "</div>"
      ],
      "text/plain": [
       "   SK_ID_CURR  OWN_CAR_AGE  zscore_car_age\n",
       "0      100002          NaN             NaN\n",
       "1      100003          NaN             NaN\n",
       "2      100004         26.0        1.166978\n",
       "3      100006          NaN             NaN\n",
       "4      100007          NaN             NaN"
      ]
     },
     "execution_count": 46,
     "metadata": {},
     "output_type": "execute_result"
    }
   ],
   "source": [
    "df_application_train['zscore_car_age'] = (df_application_train.OWN_CAR_AGE- car_age_mean ) / car_age_std\n",
    "df_application_train[[\"SK_ID_CURR\", \"OWN_CAR_AGE\", \"zscore_car_age\"]].head()"
   ]
  },
  {
   "cell_type": "code",
   "execution_count": 47,
   "metadata": {},
   "outputs": [
    {
     "name": "stdout",
     "output_type": "stream",
     "text": [
      "Number of outliers (above threshold): 3369\n",
      "Number of outliers (below threshold): 0\n",
      "Total number of outliers: 3369\n"
     ]
    }
   ],
   "source": [
    "# Count the number of outliers above the positive threshold\n",
    "outliers_count_positive = len(df_application_train[df_application_train['zscore_car_age'] > POSITVE_THRESHOLD])\n",
    "\n",
    "# Count the number of outliers below the negative threshold\n",
    "outliers_count_negative = len(df_application_train[df_application_train['zscore_car_age'] < NEGATIVE_THRESHOLD])\n",
    "\n",
    "# Total number of outliers\n",
    "total_outliers_count = outliers_count_positive + outliers_count_negative\n",
    "\n",
    "# Print the count of outliers\n",
    "print(\"Number of outliers (above threshold):\", outliers_count_positive)\n",
    "print(\"Number of outliers (below threshold):\", outliers_count_negative)\n",
    "print(\"Total number of outliers:\", total_outliers_count)"
   ]
  },
  {
   "cell_type": "code",
   "execution_count": 48,
   "metadata": {},
   "outputs": [],
   "source": [
    "df_application_train.drop('zscore_car_age', axis=1, inplace=True)"
   ]
  },
  {
   "cell_type": "markdown",
   "metadata": {},
   "source": [
    "### 2.6 Check for Correlations"
   ]
  },
  {
   "cell_type": "markdown",
   "metadata": {},
   "source": [
    "    Check for Correlations between features in a tabular form"
   ]
  },
  {
   "cell_type": "code",
   "execution_count": 49,
   "metadata": {},
   "outputs": [
    {
     "data": {
      "text/html": [
       "<div>\n",
       "<style scoped>\n",
       "    .dataframe tbody tr th:only-of-type {\n",
       "        vertical-align: middle;\n",
       "    }\n",
       "\n",
       "    .dataframe tbody tr th {\n",
       "        vertical-align: top;\n",
       "    }\n",
       "\n",
       "    .dataframe thead th {\n",
       "        text-align: right;\n",
       "    }\n",
       "</style>\n",
       "<table border=\"1\" class=\"dataframe\">\n",
       "  <thead>\n",
       "    <tr style=\"text-align: right;\">\n",
       "      <th></th>\n",
       "      <th>CNT_FAM_MEMBERS</th>\n",
       "      <th>CNT_CHILDREN</th>\n",
       "      <th>AMT_GOODS_PRICE</th>\n",
       "      <th>AMT_CREDIT</th>\n",
       "      <th>AMT_ANNUITY</th>\n",
       "      <th>TARGET</th>\n",
       "    </tr>\n",
       "  </thead>\n",
       "  <tbody>\n",
       "    <tr>\n",
       "      <th>TARGET</th>\n",
       "      <td>0.009312</td>\n",
       "      <td>0.019189</td>\n",
       "      <td>-0.039625</td>\n",
       "      <td>-0.030371</td>\n",
       "      <td>-0.012817</td>\n",
       "      <td>1.000000</td>\n",
       "    </tr>\n",
       "    <tr>\n",
       "      <th>CNT_CHILDREN</th>\n",
       "      <td>0.879158</td>\n",
       "      <td>1.000000</td>\n",
       "      <td>-0.001847</td>\n",
       "      <td>0.002151</td>\n",
       "      <td>0.021384</td>\n",
       "      <td>0.019189</td>\n",
       "    </tr>\n",
       "    <tr>\n",
       "      <th>CNT_FAM_MEMBERS</th>\n",
       "      <td>1.000000</td>\n",
       "      <td>0.879158</td>\n",
       "      <td>0.061147</td>\n",
       "      <td>0.063166</td>\n",
       "      <td>0.075547</td>\n",
       "      <td>0.009312</td>\n",
       "    </tr>\n",
       "    <tr>\n",
       "      <th>AMT_ANNUITY</th>\n",
       "      <td>0.075547</td>\n",
       "      <td>0.021384</td>\n",
       "      <td>0.774837</td>\n",
       "      <td>0.770126</td>\n",
       "      <td>1.000000</td>\n",
       "      <td>-0.012817</td>\n",
       "    </tr>\n",
       "    <tr>\n",
       "      <th>AMT_CREDIT</th>\n",
       "      <td>0.063166</td>\n",
       "      <td>0.002151</td>\n",
       "      <td>0.986736</td>\n",
       "      <td>1.000000</td>\n",
       "      <td>0.770126</td>\n",
       "      <td>-0.030371</td>\n",
       "    </tr>\n",
       "    <tr>\n",
       "      <th>AMT_GOODS_PRICE</th>\n",
       "      <td>0.061147</td>\n",
       "      <td>-0.001847</td>\n",
       "      <td>1.000000</td>\n",
       "      <td>0.986736</td>\n",
       "      <td>0.774837</td>\n",
       "      <td>-0.039625</td>\n",
       "    </tr>\n",
       "  </tbody>\n",
       "</table>\n",
       "</div>"
      ],
      "text/plain": [
       "                 CNT_FAM_MEMBERS  CNT_CHILDREN  AMT_GOODS_PRICE  AMT_CREDIT  \\\n",
       "TARGET                  0.009312      0.019189        -0.039625   -0.030371   \n",
       "CNT_CHILDREN            0.879158      1.000000        -0.001847    0.002151   \n",
       "CNT_FAM_MEMBERS         1.000000      0.879158         0.061147    0.063166   \n",
       "AMT_ANNUITY             0.075547      0.021384         0.774837    0.770126   \n",
       "AMT_CREDIT              0.063166      0.002151         0.986736    1.000000   \n",
       "AMT_GOODS_PRICE         0.061147     -0.001847         1.000000    0.986736   \n",
       "\n",
       "                 AMT_ANNUITY    TARGET  \n",
       "TARGET             -0.012817  1.000000  \n",
       "CNT_CHILDREN        0.021384  0.019189  \n",
       "CNT_FAM_MEMBERS     0.075547  0.009312  \n",
       "AMT_ANNUITY         1.000000 -0.012817  \n",
       "AMT_CREDIT          0.770126 -0.030371  \n",
       "AMT_GOODS_PRICE     0.774837 -0.039625  "
      ]
     },
     "execution_count": 49,
     "metadata": {},
     "output_type": "execute_result"
    }
   ],
   "source": [
    "correlation(df_application_train, ['CNT_FAM_MEMBERS', 'CNT_CHILDREN', 'AMT_GOODS_PRICE','AMT_CREDIT', 'AMT_ANNUITY', 'TARGET'], 'TARGET')"
   ]
  },
  {
   "cell_type": "code",
   "execution_count": 50,
   "metadata": {},
   "outputs": [
    {
     "data": {
      "image/png": "[encoded data removed]",
      "text/plain": [
       "<Figure size 1800x1000 with 2 Axes>"
      ]
     },
     "metadata": {},
     "output_type": "display_data"
    }
   ],
   "source": [
    "corr_heatmap(numerical_columns, 0.5)"
   ]
  },
  {
   "cell_type": "markdown",
   "metadata": {},
   "source": [
    "### 2.7 Evaluate Relations within \"TARGET\" Column"
   ]
  },
  {
   "cell_type": "markdown",
   "metadata": {},
   "source": [
    "    Evaluate the relation between values in a specific column with the \"TARGET\" column"
   ]
  },
  {
   "cell_type": "code",
   "execution_count": 51,
   "metadata": {},
   "outputs": [
    {
     "name": "stdout",
     "output_type": "stream",
     "text": [
      "relation between  Postal  and TARGET\n",
      " TARGET\n",
      "0    0.915624\n",
      "1    0.084376\n",
      "Name: proportion, dtype: float64 \n",
      "\n"
     ]
    }
   ],
   "source": [
    "relation(df_application_train,'ORGANIZATION_TYPE', 'Postal')"
   ]
  },
  {
   "cell_type": "code",
   "execution_count": 52,
   "metadata": {},
   "outputs": [
    {
     "name": "stdout",
     "output_type": "stream",
     "text": [
      "relation between  24  and TARGET\n",
      " TARGET\n",
      "0    1.0\n",
      "Name: proportion, dtype: float64 \n",
      "\n"
     ]
    }
   ],
   "source": [
    "relation(df_application_train,'DEF_60_CNT_SOCIAL_CIRCLE', 24)"
   ]
  },
  {
   "cell_type": "markdown",
   "metadata": {},
   "source": [
    "## 3. Preprocess Data"
   ]
  },
  {
   "cell_type": "markdown",
   "metadata": {},
   "source": [
    "### 3.1 Fill Remaining Nulls "
   ]
  },
  {
   "cell_type": "code",
   "execution_count": 53,
   "metadata": {},
   "outputs": [],
   "source": [
    "df_application_train['OCCUPATION_TYPE'].fillna(value='XNA', inplace=True)"
   ]
  },
  {
   "cell_type": "code",
   "execution_count": 54,
   "metadata": {},
   "outputs": [],
   "source": [
    "df_application_train['OWN_CAR_AGE'].fillna(value=0, inplace=True)"
   ]
  },
  {
   "cell_type": "code",
   "execution_count": 55,
   "metadata": {},
   "outputs": [
    {
     "data": {
      "text/html": [
       "<div>\n",
       "<style scoped>\n",
       "    .dataframe tbody tr th:only-of-type {\n",
       "        vertical-align: middle;\n",
       "    }\n",
       "\n",
       "    .dataframe tbody tr th {\n",
       "        vertical-align: top;\n",
       "    }\n",
       "\n",
       "    .dataframe thead th {\n",
       "        text-align: right;\n",
       "    }\n",
       "</style>\n",
       "<table border=\"1\" class=\"dataframe\">\n",
       "  <thead>\n",
       "    <tr style=\"text-align: right;\">\n",
       "      <th></th>\n",
       "      <th>Missing_Values</th>\n",
       "      <th>Percentage %</th>\n",
       "    </tr>\n",
       "  </thead>\n",
       "  <tbody>\n",
       "    <tr>\n",
       "      <th>SK_ID_CURR</th>\n",
       "      <td>0</td>\n",
       "      <td>0.0</td>\n",
       "    </tr>\n",
       "    <tr>\n",
       "      <th>NAME_CONTRACT_TYPE</th>\n",
       "      <td>0</td>\n",
       "      <td>0.0</td>\n",
       "    </tr>\n",
       "    <tr>\n",
       "      <th>YEARS_REGISTRATION</th>\n",
       "      <td>0</td>\n",
       "      <td>0.0</td>\n",
       "    </tr>\n",
       "    <tr>\n",
       "      <th>YEARS_ID_PUBLISH</th>\n",
       "      <td>0</td>\n",
       "      <td>0.0</td>\n",
       "    </tr>\n",
       "    <tr>\n",
       "      <th>REGION_RATING_CLIENT</th>\n",
       "      <td>0</td>\n",
       "      <td>0.0</td>\n",
       "    </tr>\n",
       "    <tr>\n",
       "      <th>REGION_RATING_CLIENT_W_CITY</th>\n",
       "      <td>0</td>\n",
       "      <td>0.0</td>\n",
       "    </tr>\n",
       "    <tr>\n",
       "      <th>REG_REGION_NOT_LIVE_REGION</th>\n",
       "      <td>0</td>\n",
       "      <td>0.0</td>\n",
       "    </tr>\n",
       "    <tr>\n",
       "      <th>REG_REGION_NOT_WORK_REGION</th>\n",
       "      <td>0</td>\n",
       "      <td>0.0</td>\n",
       "    </tr>\n",
       "    <tr>\n",
       "      <th>LIVE_REGION_NOT_WORK_REGION</th>\n",
       "      <td>0</td>\n",
       "      <td>0.0</td>\n",
       "    </tr>\n",
       "    <tr>\n",
       "      <th>CODE_GENDER</th>\n",
       "      <td>0</td>\n",
       "      <td>0.0</td>\n",
       "    </tr>\n",
       "    <tr>\n",
       "      <th>TARGET</th>\n",
       "      <td>0</td>\n",
       "      <td>0.0</td>\n",
       "    </tr>\n",
       "    <tr>\n",
       "      <th>FLAG_OWN_CAR</th>\n",
       "      <td>0</td>\n",
       "      <td>0.0</td>\n",
       "    </tr>\n",
       "    <tr>\n",
       "      <th>FLAG_OWN_REALTY</th>\n",
       "      <td>0</td>\n",
       "      <td>0.0</td>\n",
       "    </tr>\n",
       "    <tr>\n",
       "      <th>NAME_TYPE_SUITE</th>\n",
       "      <td>0</td>\n",
       "      <td>0.0</td>\n",
       "    </tr>\n",
       "    <tr>\n",
       "      <th>NAME_INCOME_TYPE</th>\n",
       "      <td>0</td>\n",
       "      <td>0.0</td>\n",
       "    </tr>\n",
       "    <tr>\n",
       "      <th>NAME_FAMILY_STATUS</th>\n",
       "      <td>0</td>\n",
       "      <td>0.0</td>\n",
       "    </tr>\n",
       "    <tr>\n",
       "      <th>NAME_HOUSING_TYPE</th>\n",
       "      <td>0</td>\n",
       "      <td>0.0</td>\n",
       "    </tr>\n",
       "    <tr>\n",
       "      <th>OCCUPATION_TYPE</th>\n",
       "      <td>0</td>\n",
       "      <td>0.0</td>\n",
       "    </tr>\n",
       "    <tr>\n",
       "      <th>AMT_REQ_CREDIT_BUREAU_YEAR</th>\n",
       "      <td>0</td>\n",
       "      <td>0.0</td>\n",
       "    </tr>\n",
       "    <tr>\n",
       "      <th>DEF_60_CNT_SOCIAL_CIRCLE</th>\n",
       "      <td>0</td>\n",
       "      <td>0.0</td>\n",
       "    </tr>\n",
       "    <tr>\n",
       "      <th>OBS_60_CNT_SOCIAL_CIRCLE</th>\n",
       "      <td>0</td>\n",
       "      <td>0.0</td>\n",
       "    </tr>\n",
       "    <tr>\n",
       "      <th>DEF_30_CNT_SOCIAL_CIRCLE</th>\n",
       "      <td>0</td>\n",
       "      <td>0.0</td>\n",
       "    </tr>\n",
       "    <tr>\n",
       "      <th>CNT_CHILDREN</th>\n",
       "      <td>0</td>\n",
       "      <td>0.0</td>\n",
       "    </tr>\n",
       "    <tr>\n",
       "      <th>AMT_INCOME_TOTAL</th>\n",
       "      <td>0</td>\n",
       "      <td>0.0</td>\n",
       "    </tr>\n",
       "    <tr>\n",
       "      <th>AMT_CREDIT</th>\n",
       "      <td>0</td>\n",
       "      <td>0.0</td>\n",
       "    </tr>\n",
       "    <tr>\n",
       "      <th>AMT_ANNUITY</th>\n",
       "      <td>0</td>\n",
       "      <td>0.0</td>\n",
       "    </tr>\n",
       "    <tr>\n",
       "      <th>AMT_GOODS_PRICE</th>\n",
       "      <td>0</td>\n",
       "      <td>0.0</td>\n",
       "    </tr>\n",
       "    <tr>\n",
       "      <th>REGION_POPULATION_RELATIVE</th>\n",
       "      <td>0</td>\n",
       "      <td>0.0</td>\n",
       "    </tr>\n",
       "    <tr>\n",
       "      <th>YEARS_BIRTH</th>\n",
       "      <td>0</td>\n",
       "      <td>0.0</td>\n",
       "    </tr>\n",
       "    <tr>\n",
       "      <th>YEARS_EMPLOYED</th>\n",
       "      <td>0</td>\n",
       "      <td>0.0</td>\n",
       "    </tr>\n",
       "    <tr>\n",
       "      <th>OWN_CAR_AGE</th>\n",
       "      <td>0</td>\n",
       "      <td>0.0</td>\n",
       "    </tr>\n",
       "    <tr>\n",
       "      <th>CNT_FAM_MEMBERS</th>\n",
       "      <td>0</td>\n",
       "      <td>0.0</td>\n",
       "    </tr>\n",
       "    <tr>\n",
       "      <th>EXT_SOURCE_2</th>\n",
       "      <td>0</td>\n",
       "      <td>0.0</td>\n",
       "    </tr>\n",
       "    <tr>\n",
       "      <th>EXT_SOURCE_3</th>\n",
       "      <td>0</td>\n",
       "      <td>0.0</td>\n",
       "    </tr>\n",
       "    <tr>\n",
       "      <th>LIVINGAREA_AVG</th>\n",
       "      <td>0</td>\n",
       "      <td>0.0</td>\n",
       "    </tr>\n",
       "    <tr>\n",
       "      <th>TOTALAREA_MODE</th>\n",
       "      <td>0</td>\n",
       "      <td>0.0</td>\n",
       "    </tr>\n",
       "    <tr>\n",
       "      <th>OBS_30_CNT_SOCIAL_CIRCLE</th>\n",
       "      <td>0</td>\n",
       "      <td>0.0</td>\n",
       "    </tr>\n",
       "    <tr>\n",
       "      <th>ORGANIZATION_TYPE</th>\n",
       "      <td>0</td>\n",
       "      <td>0.0</td>\n",
       "    </tr>\n",
       "  </tbody>\n",
       "</table>\n",
       "</div>"
      ],
      "text/plain": [
       "                             Missing_Values  Percentage %\n",
       "SK_ID_CURR                                0           0.0\n",
       "NAME_CONTRACT_TYPE                        0           0.0\n",
       "YEARS_REGISTRATION                        0           0.0\n",
       "YEARS_ID_PUBLISH                          0           0.0\n",
       "REGION_RATING_CLIENT                      0           0.0\n",
       "REGION_RATING_CLIENT_W_CITY               0           0.0\n",
       "REG_REGION_NOT_LIVE_REGION                0           0.0\n",
       "REG_REGION_NOT_WORK_REGION                0           0.0\n",
       "LIVE_REGION_NOT_WORK_REGION               0           0.0\n",
       "CODE_GENDER                               0           0.0\n",
       "TARGET                                    0           0.0\n",
       "FLAG_OWN_CAR                              0           0.0\n",
       "FLAG_OWN_REALTY                           0           0.0\n",
       "NAME_TYPE_SUITE                           0           0.0\n",
       "NAME_INCOME_TYPE                          0           0.0\n",
       "NAME_FAMILY_STATUS                        0           0.0\n",
       "NAME_HOUSING_TYPE                         0           0.0\n",
       "OCCUPATION_TYPE                           0           0.0\n",
       "AMT_REQ_CREDIT_BUREAU_YEAR                0           0.0\n",
       "DEF_60_CNT_SOCIAL_CIRCLE                  0           0.0\n",
       "OBS_60_CNT_SOCIAL_CIRCLE                  0           0.0\n",
       "DEF_30_CNT_SOCIAL_CIRCLE                  0           0.0\n",
       "CNT_CHILDREN                              0           0.0\n",
       "AMT_INCOME_TOTAL                          0           0.0\n",
       "AMT_CREDIT                                0           0.0\n",
       "AMT_ANNUITY                               0           0.0\n",
       "AMT_GOODS_PRICE                           0           0.0\n",
       "REGION_POPULATION_RELATIVE                0           0.0\n",
       "YEARS_BIRTH                               0           0.0\n",
       "YEARS_EMPLOYED                            0           0.0\n",
       "OWN_CAR_AGE                               0           0.0\n",
       "CNT_FAM_MEMBERS                           0           0.0\n",
       "EXT_SOURCE_2                              0           0.0\n",
       "EXT_SOURCE_3                              0           0.0\n",
       "LIVINGAREA_AVG                            0           0.0\n",
       "TOTALAREA_MODE                            0           0.0\n",
       "OBS_30_CNT_SOCIAL_CIRCLE                  0           0.0\n",
       "ORGANIZATION_TYPE                         0           0.0"
      ]
     },
     "execution_count": 55,
     "metadata": {},
     "output_type": "execute_result"
    }
   ],
   "source": [
    "nulls_percentage(df_application_train)"
   ]
  },
  {
   "cell_type": "markdown",
   "metadata": {},
   "source": [
    "### 3.2 Feature Engineering "
   ]
  },
  {
   "cell_type": "code",
   "execution_count": 56,
   "metadata": {},
   "outputs": [],
   "source": [
    "# df_application_train[(df_application_train['REGION_RATING_CLIENT_W_CITY'] == 2)].mean()"
   ]
  },
  {
   "cell_type": "code",
   "execution_count": 57,
   "metadata": {},
   "outputs": [],
   "source": [
    "''' Create a new feature by combining two existing features, \n",
    "calculating an overall rating for a specific region that includes the city. '''\n",
    "\n",
    "df_application_train['OVERALL_REGION_RATING'] = df_application_train['REGION_RATING_CLIENT_W_CITY']/df_application_train['REGION_POPULATION_RELATIVE']"
   ]
  },
  {
   "cell_type": "code",
   "execution_count": 58,
   "metadata": {},
   "outputs": [],
   "source": [
    "df_application_train['LOAN_REPAYMENT_PERIOD'] = df_application_train['AMT_CREDIT'] / df_application_train['AMT_ANNUITY']"
   ]
  },
  {
   "cell_type": "markdown",
   "metadata": {},
   "source": [
    "#### Check the correlation heatmap after feature engineering."
   ]
  },
  {
   "cell_type": "code",
   "execution_count": 59,
   "metadata": {},
   "outputs": [],
   "source": [
    "# corr_heatmap(df, 0.4)"
   ]
  },
  {
   "cell_type": "markdown",
   "metadata": {},
   "source": [
    "### 3.3 Drop Columns"
   ]
  },
  {
   "cell_type": "markdown",
   "metadata": {},
   "source": [
    "    Dropping columns having high correlation with other columns based on their correlation with the 'TARGET' column to reduce multicollinearity effect. Some unnecessary columns were also removed"
   ]
  },
  {
   "cell_type": "code",
   "execution_count": 60,
   "metadata": {},
   "outputs": [],
   "source": [
    "df_application_train = df_application_train.drop(['CNT_FAM_MEMBERS', 'AMT_CREDIT',\n",
    "                                                'LIVINGAREA_AVG', 'OBS_30_CNT_SOCIAL_CIRCLE',\n",
    "                                                'DEF_30_CNT_SOCIAL_CIRCLE', 'OBS_60_CNT_SOCIAL_CIRCLE',\n",
    "                                                'REGION_RATING_CLIENT','LIVE_REGION_NOT_WORK_REGION','NAME_TYPE_SUITE',\n",
    "                                                'REG_REGION_NOT_LIVE_REGION', 'YEARS_REGISTRATION', 'YEARS_ID_PUBLISH', 'REG_REGION_NOT_WORK_REGION'], axis=1)"
   ]
  },
  {
   "cell_type": "code",
   "execution_count": 61,
   "metadata": {},
   "outputs": [
    {
     "data": {
      "text/plain": [
       "(307507, 27)"
      ]
     },
     "execution_count": 61,
     "metadata": {},
     "output_type": "execute_result"
    }
   ],
   "source": [
    "df_application_train.shape"
   ]
  },
  {
   "cell_type": "markdown",
   "metadata": {},
   "source": [
    "### 3.4 Handling Outliers"
   ]
  },
  {
   "cell_type": "code",
   "execution_count": 62,
   "metadata": {},
   "outputs": [],
   "source": [
    "# Drop the row having an anomaly 'AMT_INCOME_TOTAL' \n",
    "df_application_train.drop(df_application_train[df_application_train.AMT_INCOME_TOTAL > 100000000].index, inplace=True)"
   ]
  },
  {
   "cell_type": "code",
   "execution_count": 63,
   "metadata": {},
   "outputs": [
    {
     "data": {
      "text/html": [
       "<div>\n",
       "<style scoped>\n",
       "    .dataframe tbody tr th:only-of-type {\n",
       "        vertical-align: middle;\n",
       "    }\n",
       "\n",
       "    .dataframe tbody tr th {\n",
       "        vertical-align: top;\n",
       "    }\n",
       "\n",
       "    .dataframe thead th {\n",
       "        text-align: right;\n",
       "    }\n",
       "</style>\n",
       "<table border=\"1\" class=\"dataframe\">\n",
       "  <thead>\n",
       "    <tr style=\"text-align: right;\">\n",
       "      <th></th>\n",
       "      <th>AMT_INCOME_TOTAL</th>\n",
       "    </tr>\n",
       "  </thead>\n",
       "  <tbody>\n",
       "    <tr>\n",
       "      <th>203689</th>\n",
       "      <td>18000090.0</td>\n",
       "    </tr>\n",
       "    <tr>\n",
       "      <th>246854</th>\n",
       "      <td>13500000.0</td>\n",
       "    </tr>\n",
       "  </tbody>\n",
       "</table>\n",
       "</div>"
      ],
      "text/plain": [
       "        AMT_INCOME_TOTAL\n",
       "203689        18000090.0\n",
       "246854        13500000.0"
      ]
     },
     "execution_count": 63,
     "metadata": {},
     "output_type": "execute_result"
    }
   ],
   "source": [
    "(df_application_train[['AMT_INCOME_TOTAL']][(df_application_train[\"AMT_INCOME_TOTAL\"] > 10000000)])\n"
   ]
  },
  {
   "cell_type": "markdown",
   "metadata": {},
   "source": [
    "### 3.5 Aggregate Secondary Tables"
   ]
  },
  {
   "cell_type": "markdown",
   "metadata": {},
   "source": [
    "#### 3.5.1 Bureau Table"
   ]
  },
  {
   "cell_type": "code",
   "execution_count": 64,
   "metadata": {},
   "outputs": [
    {
     "name": "stdout",
     "output_type": "stream",
     "text": [
      "<class 'pandas.core.frame.DataFrame'>\n",
      "RangeIndex: 1716428 entries, 0 to 1716427\n",
      "Data columns (total 17 columns):\n",
      " #   Column                  Dtype  \n",
      "---  ------                  -----  \n",
      " 0   SK_ID_CURR              int64  \n",
      " 1   SK_ID_BUREAU            int64  \n",
      " 2   CREDIT_ACTIVE           object \n",
      " 3   CREDIT_CURRENCY         object \n",
      " 4   DAYS_CREDIT             int64  \n",
      " 5   CREDIT_DAY_OVERDUE      int64  \n",
      " 6   DAYS_CREDIT_ENDDATE     float64\n",
      " 7   DAYS_ENDDATE_FACT       float64\n",
      " 8   AMT_CREDIT_MAX_OVERDUE  float64\n",
      " 9   CNT_CREDIT_PROLONG      int64  \n",
      " 10  AMT_CREDIT_SUM          float64\n",
      " 11  AMT_CREDIT_SUM_DEBT     float64\n",
      " 12  AMT_CREDIT_SUM_LIMIT    float64\n",
      " 13  AMT_CREDIT_SUM_OVERDUE  float64\n",
      " 14  CREDIT_TYPE             object \n",
      " 15  DAYS_CREDIT_UPDATE      int64  \n",
      " 16  AMT_ANNUITY             float64\n",
      "dtypes: float64(8), int64(6), object(3)\n",
      "memory usage: 222.6+ MB\n",
      "None \n",
      "\n",
      "Shape: (1716428, 17)\n"
     ]
    }
   ],
   "source": [
    "explore(df_bureau)"
   ]
  },
  {
   "cell_type": "code",
   "execution_count": 65,
   "metadata": {},
   "outputs": [],
   "source": [
    "total_loans = df_bureau.groupby('SK_ID_CURR')['SK_ID_BUREAU'].count().reset_index()\n",
    "total_loans.rename(columns={'SK_ID_BUREAU': 'TOTAL_LOANS'}, inplace=True)"
   ]
  },
  {
   "cell_type": "code",
   "execution_count": 66,
   "metadata": {},
   "outputs": [
    {
     "name": "stdout",
     "output_type": "stream",
     "text": [
      "<class 'pandas.core.frame.DataFrame'>\n",
      "RangeIndex: 305811 entries, 0 to 305810\n",
      "Data columns (total 2 columns):\n",
      " #   Column       Non-Null Count   Dtype\n",
      "---  ------       --------------   -----\n",
      " 0   SK_ID_CURR   305811 non-null  int64\n",
      " 1   TOTAL_LOANS  305811 non-null  int64\n",
      "dtypes: int64(2)\n",
      "memory usage: 4.7 MB\n",
      "None \n",
      "\n",
      "Shape: (305811, 2)\n"
     ]
    }
   ],
   "source": [
    "explore(total_loans)"
   ]
  },
  {
   "cell_type": "code",
   "execution_count": 67,
   "metadata": {},
   "outputs": [],
   "source": [
    "average_delay = df_bureau.groupby('SK_ID_CURR')['CREDIT_DAY_OVERDUE'].mean().reset_index()\n",
    "average_delay.rename(columns={'CREDIT_DAY_OVERDUE': 'AVG_REPAYMENT_DELAY'}, inplace=True)"
   ]
  },
  {
   "cell_type": "code",
   "execution_count": 68,
   "metadata": {},
   "outputs": [
    {
     "name": "stdout",
     "output_type": "stream",
     "text": [
      "<class 'pandas.core.frame.DataFrame'>\n",
      "RangeIndex: 305811 entries, 0 to 305810\n",
      "Data columns (total 2 columns):\n",
      " #   Column               Non-Null Count   Dtype  \n",
      "---  ------               --------------   -----  \n",
      " 0   SK_ID_CURR           305811 non-null  int64  \n",
      " 1   AVG_REPAYMENT_DELAY  305811 non-null  float64\n",
      "dtypes: float64(1), int64(1)\n",
      "memory usage: 4.7 MB\n",
      "None \n",
      "\n",
      "Shape: (305811, 2)\n"
     ]
    }
   ],
   "source": [
    "explore(average_delay)"
   ]
  },
  {
   "cell_type": "markdown",
   "metadata": {},
   "source": [
    "#### 3.5.2 Previous_Application Table"
   ]
  },
  {
   "cell_type": "code",
   "execution_count": 69,
   "metadata": {},
   "outputs": [],
   "source": [
    "count_previous_loans = df_previous_application.groupby('SK_ID_CURR')['SK_ID_PREV'].count().reset_index()\n",
    "count_previous_loans.rename(columns={'SK_ID_PREV': 'COUNT_PREVIOUS_LOANS'}, inplace=True)"
   ]
  },
  {
   "cell_type": "code",
   "execution_count": 70,
   "metadata": {},
   "outputs": [
    {
     "data": {
      "text/html": [
       "<div>\n",
       "<style scoped>\n",
       "    .dataframe tbody tr th:only-of-type {\n",
       "        vertical-align: middle;\n",
       "    }\n",
       "\n",
       "    .dataframe tbody tr th {\n",
       "        vertical-align: top;\n",
       "    }\n",
       "\n",
       "    .dataframe thead th {\n",
       "        text-align: right;\n",
       "    }\n",
       "</style>\n",
       "<table border=\"1\" class=\"dataframe\">\n",
       "  <thead>\n",
       "    <tr style=\"text-align: right;\">\n",
       "      <th></th>\n",
       "      <th>SK_ID_CURR</th>\n",
       "      <th>COUNT_PREVIOUS_LOANS</th>\n",
       "    </tr>\n",
       "  </thead>\n",
       "  <tbody>\n",
       "    <tr>\n",
       "      <th>338852</th>\n",
       "      <td>456251</td>\n",
       "      <td>1</td>\n",
       "    </tr>\n",
       "    <tr>\n",
       "      <th>338853</th>\n",
       "      <td>456252</td>\n",
       "      <td>1</td>\n",
       "    </tr>\n",
       "    <tr>\n",
       "      <th>338854</th>\n",
       "      <td>456253</td>\n",
       "      <td>2</td>\n",
       "    </tr>\n",
       "    <tr>\n",
       "      <th>338855</th>\n",
       "      <td>456254</td>\n",
       "      <td>2</td>\n",
       "    </tr>\n",
       "    <tr>\n",
       "      <th>338856</th>\n",
       "      <td>456255</td>\n",
       "      <td>8</td>\n",
       "    </tr>\n",
       "  </tbody>\n",
       "</table>\n",
       "</div>"
      ],
      "text/plain": [
       "        SK_ID_CURR  COUNT_PREVIOUS_LOANS\n",
       "338852      456251                     1\n",
       "338853      456252                     1\n",
       "338854      456253                     2\n",
       "338855      456254                     2\n",
       "338856      456255                     8"
      ]
     },
     "execution_count": 70,
     "metadata": {},
     "output_type": "execute_result"
    }
   ],
   "source": [
    "count_previous_loans.tail()"
   ]
  },
  {
   "cell_type": "code",
   "execution_count": 71,
   "metadata": {},
   "outputs": [
    {
     "name": "stdout",
     "output_type": "stream",
     "text": [
      "<class 'pandas.core.frame.DataFrame'>\n",
      "RangeIndex: 338857 entries, 0 to 338856\n",
      "Data columns (total 2 columns):\n",
      " #   Column                Non-Null Count   Dtype\n",
      "---  ------                --------------   -----\n",
      " 0   SK_ID_CURR            338857 non-null  int64\n",
      " 1   COUNT_PREVIOUS_LOANS  338857 non-null  int64\n",
      "dtypes: int64(2)\n",
      "memory usage: 5.2 MB\n",
      "None \n",
      "\n",
      "Shape: (338857, 2)\n"
     ]
    }
   ],
   "source": [
    "explore(count_previous_loans)"
   ]
  },
  {
   "cell_type": "code",
   "execution_count": 72,
   "metadata": {},
   "outputs": [],
   "source": [
    "average_loan_amount = df_previous_application.groupby('SK_ID_CURR')['AMT_APPLICATION'].mean().reset_index()\n",
    "average_loan_amount.rename(columns={'AMT_APPLICATION': 'AVG_LOAN_AMOUNT'}, inplace=True)"
   ]
  },
  {
   "cell_type": "code",
   "execution_count": 73,
   "metadata": {},
   "outputs": [
    {
     "data": {
      "text/html": [
       "<div>\n",
       "<style scoped>\n",
       "    .dataframe tbody tr th:only-of-type {\n",
       "        vertical-align: middle;\n",
       "    }\n",
       "\n",
       "    .dataframe tbody tr th {\n",
       "        vertical-align: top;\n",
       "    }\n",
       "\n",
       "    .dataframe thead th {\n",
       "        text-align: right;\n",
       "    }\n",
       "</style>\n",
       "<table border=\"1\" class=\"dataframe\">\n",
       "  <thead>\n",
       "    <tr style=\"text-align: right;\">\n",
       "      <th></th>\n",
       "      <th>SK_ID_CURR</th>\n",
       "      <th>AVG_LOAN_AMOUNT</th>\n",
       "    </tr>\n",
       "  </thead>\n",
       "  <tbody>\n",
       "    <tr>\n",
       "      <th>0</th>\n",
       "      <td>100001</td>\n",
       "      <td>24835.50</td>\n",
       "    </tr>\n",
       "    <tr>\n",
       "      <th>1</th>\n",
       "      <td>100002</td>\n",
       "      <td>179055.00</td>\n",
       "    </tr>\n",
       "    <tr>\n",
       "      <th>2</th>\n",
       "      <td>100003</td>\n",
       "      <td>435436.50</td>\n",
       "    </tr>\n",
       "    <tr>\n",
       "      <th>3</th>\n",
       "      <td>100004</td>\n",
       "      <td>24282.00</td>\n",
       "    </tr>\n",
       "    <tr>\n",
       "      <th>4</th>\n",
       "      <td>100005</td>\n",
       "      <td>22308.75</td>\n",
       "    </tr>\n",
       "  </tbody>\n",
       "</table>\n",
       "</div>"
      ],
      "text/plain": [
       "   SK_ID_CURR  AVG_LOAN_AMOUNT\n",
       "0      100001         24835.50\n",
       "1      100002        179055.00\n",
       "2      100003        435436.50\n",
       "3      100004         24282.00\n",
       "4      100005         22308.75"
      ]
     },
     "execution_count": 73,
     "metadata": {},
     "output_type": "execute_result"
    }
   ],
   "source": [
    "average_loan_amount.head()"
   ]
  },
  {
   "cell_type": "code",
   "execution_count": 74,
   "metadata": {},
   "outputs": [
    {
     "name": "stdout",
     "output_type": "stream",
     "text": [
      "<class 'pandas.core.frame.DataFrame'>\n",
      "RangeIndex: 338857 entries, 0 to 338856\n",
      "Data columns (total 2 columns):\n",
      " #   Column           Non-Null Count   Dtype  \n",
      "---  ------           --------------   -----  \n",
      " 0   SK_ID_CURR       338857 non-null  int64  \n",
      " 1   AVG_LOAN_AMOUNT  338857 non-null  float64\n",
      "dtypes: float64(1), int64(1)\n",
      "memory usage: 5.2 MB\n",
      "None \n",
      "\n",
      "Shape: (338857, 2)\n"
     ]
    }
   ],
   "source": [
    "explore(average_loan_amount)"
   ]
  },
  {
   "cell_type": "markdown",
   "metadata": {},
   "source": [
    "#### 3.5.3 Merging Tables"
   ]
  },
  {
   "cell_type": "code",
   "execution_count": 75,
   "metadata": {},
   "outputs": [],
   "source": [
    "# Merging total loans\n",
    "df_application_train = df_application_train.merge(total_loans, on='SK_ID_CURR', how='left')\n",
    "\n",
    "# Merging average repayment delay\n",
    "df_application_train = df_application_train.merge(average_delay, on='SK_ID_CURR', how='left')"
   ]
  },
  {
   "cell_type": "code",
   "execution_count": 76,
   "metadata": {},
   "outputs": [],
   "source": [
    "# Merging count of previous loans\n",
    "df_application_train = df_application_train.merge(count_previous_loans, on='SK_ID_CURR', how='left')\n",
    "\n",
    "# Merging average loan amount\n",
    "df_application_train = df_application_train.merge(average_loan_amount, on='SK_ID_CURR', how='left')"
   ]
  },
  {
   "cell_type": "code",
   "execution_count": 77,
   "metadata": {},
   "outputs": [
    {
     "data": {
      "text/html": [
       "<div>\n",
       "<style scoped>\n",
       "    .dataframe tbody tr th:only-of-type {\n",
       "        vertical-align: middle;\n",
       "    }\n",
       "\n",
       "    .dataframe tbody tr th {\n",
       "        vertical-align: top;\n",
       "    }\n",
       "\n",
       "    .dataframe thead th {\n",
       "        text-align: right;\n",
       "    }\n",
       "</style>\n",
       "<table border=\"1\" class=\"dataframe\">\n",
       "  <thead>\n",
       "    <tr style=\"text-align: right;\">\n",
       "      <th></th>\n",
       "      <th>SK_ID_CURR</th>\n",
       "      <th>TARGET</th>\n",
       "      <th>CNT_CHILDREN</th>\n",
       "      <th>AMT_INCOME_TOTAL</th>\n",
       "      <th>AMT_ANNUITY</th>\n",
       "      <th>AMT_GOODS_PRICE</th>\n",
       "      <th>REGION_POPULATION_RELATIVE</th>\n",
       "      <th>YEARS_BIRTH</th>\n",
       "      <th>YEARS_EMPLOYED</th>\n",
       "      <th>OWN_CAR_AGE</th>\n",
       "      <th>EXT_SOURCE_2</th>\n",
       "      <th>EXT_SOURCE_3</th>\n",
       "      <th>TOTALAREA_MODE</th>\n",
       "      <th>DEF_60_CNT_SOCIAL_CIRCLE</th>\n",
       "      <th>AMT_REQ_CREDIT_BUREAU_YEAR</th>\n",
       "      <th>REGION_RATING_CLIENT_W_CITY</th>\n",
       "      <th>NAME_CONTRACT_TYPE</th>\n",
       "      <th>CODE_GENDER</th>\n",
       "      <th>FLAG_OWN_CAR</th>\n",
       "      <th>FLAG_OWN_REALTY</th>\n",
       "      <th>NAME_INCOME_TYPE</th>\n",
       "      <th>NAME_FAMILY_STATUS</th>\n",
       "      <th>NAME_HOUSING_TYPE</th>\n",
       "      <th>OCCUPATION_TYPE</th>\n",
       "      <th>ORGANIZATION_TYPE</th>\n",
       "      <th>OVERALL_REGION_RATING</th>\n",
       "      <th>LOAN_REPAYMENT_PERIOD</th>\n",
       "      <th>TOTAL_LOANS</th>\n",
       "      <th>AVG_REPAYMENT_DELAY</th>\n",
       "      <th>COUNT_PREVIOUS_LOANS</th>\n",
       "      <th>AVG_LOAN_AMOUNT</th>\n",
       "    </tr>\n",
       "  </thead>\n",
       "  <tbody>\n",
       "    <tr>\n",
       "      <th>0</th>\n",
       "      <td>100002</td>\n",
       "      <td>1</td>\n",
       "      <td>0</td>\n",
       "      <td>202500.0</td>\n",
       "      <td>24700.5</td>\n",
       "      <td>351000.0</td>\n",
       "      <td>0.018801</td>\n",
       "      <td>25.920548</td>\n",
       "      <td>1.745205</td>\n",
       "      <td>0.0</td>\n",
       "      <td>0.262949</td>\n",
       "      <td>0.139376</td>\n",
       "      <td>0.014900</td>\n",
       "      <td>2</td>\n",
       "      <td>1</td>\n",
       "      <td>2</td>\n",
       "      <td>Cash loans</td>\n",
       "      <td>M</td>\n",
       "      <td>N</td>\n",
       "      <td>Y</td>\n",
       "      <td>Working</td>\n",
       "      <td>Single / not married</td>\n",
       "      <td>House / apartment</td>\n",
       "      <td>Laborers</td>\n",
       "      <td>Business Entity Type 3</td>\n",
       "      <td>106.377320</td>\n",
       "      <td>16.461104</td>\n",
       "      <td>8.0</td>\n",
       "      <td>0.0</td>\n",
       "      <td>1.0</td>\n",
       "      <td>179055.00</td>\n",
       "    </tr>\n",
       "    <tr>\n",
       "      <th>1</th>\n",
       "      <td>100003</td>\n",
       "      <td>0</td>\n",
       "      <td>0</td>\n",
       "      <td>270000.0</td>\n",
       "      <td>35698.5</td>\n",
       "      <td>1129500.0</td>\n",
       "      <td>0.003541</td>\n",
       "      <td>45.931507</td>\n",
       "      <td>3.254795</td>\n",
       "      <td>0.0</td>\n",
       "      <td>0.622246</td>\n",
       "      <td>0.380545</td>\n",
       "      <td>0.071400</td>\n",
       "      <td>0</td>\n",
       "      <td>0</td>\n",
       "      <td>1</td>\n",
       "      <td>Cash loans</td>\n",
       "      <td>F</td>\n",
       "      <td>N</td>\n",
       "      <td>N</td>\n",
       "      <td>State servant</td>\n",
       "      <td>Married</td>\n",
       "      <td>House / apartment</td>\n",
       "      <td>Core staff</td>\n",
       "      <td>School</td>\n",
       "      <td>282.406100</td>\n",
       "      <td>36.234085</td>\n",
       "      <td>4.0</td>\n",
       "      <td>0.0</td>\n",
       "      <td>3.0</td>\n",
       "      <td>435436.50</td>\n",
       "    </tr>\n",
       "    <tr>\n",
       "      <th>2</th>\n",
       "      <td>100004</td>\n",
       "      <td>0</td>\n",
       "      <td>0</td>\n",
       "      <td>67500.0</td>\n",
       "      <td>6750.0</td>\n",
       "      <td>135000.0</td>\n",
       "      <td>0.010032</td>\n",
       "      <td>52.180822</td>\n",
       "      <td>0.616438</td>\n",
       "      <td>26.0</td>\n",
       "      <td>0.555912</td>\n",
       "      <td>0.729567</td>\n",
       "      <td>0.068559</td>\n",
       "      <td>0</td>\n",
       "      <td>0</td>\n",
       "      <td>2</td>\n",
       "      <td>Revolving loans</td>\n",
       "      <td>M</td>\n",
       "      <td>Y</td>\n",
       "      <td>Y</td>\n",
       "      <td>Working</td>\n",
       "      <td>Single / not married</td>\n",
       "      <td>House / apartment</td>\n",
       "      <td>Laborers</td>\n",
       "      <td>Government</td>\n",
       "      <td>199.362041</td>\n",
       "      <td>20.000000</td>\n",
       "      <td>2.0</td>\n",
       "      <td>0.0</td>\n",
       "      <td>1.0</td>\n",
       "      <td>24282.00</td>\n",
       "    </tr>\n",
       "    <tr>\n",
       "      <th>3</th>\n",
       "      <td>100006</td>\n",
       "      <td>0</td>\n",
       "      <td>0</td>\n",
       "      <td>135000.0</td>\n",
       "      <td>29686.5</td>\n",
       "      <td>297000.0</td>\n",
       "      <td>0.008019</td>\n",
       "      <td>52.068493</td>\n",
       "      <td>8.326027</td>\n",
       "      <td>0.0</td>\n",
       "      <td>0.650442</td>\n",
       "      <td>0.451486</td>\n",
       "      <td>0.068800</td>\n",
       "      <td>0</td>\n",
       "      <td>1</td>\n",
       "      <td>2</td>\n",
       "      <td>Cash loans</td>\n",
       "      <td>F</td>\n",
       "      <td>N</td>\n",
       "      <td>Y</td>\n",
       "      <td>Working</td>\n",
       "      <td>Civil marriage</td>\n",
       "      <td>House / apartment</td>\n",
       "      <td>Laborers</td>\n",
       "      <td>Business Entity Type 3</td>\n",
       "      <td>249.407657</td>\n",
       "      <td>10.532818</td>\n",
       "      <td>NaN</td>\n",
       "      <td>NaN</td>\n",
       "      <td>9.0</td>\n",
       "      <td>272203.26</td>\n",
       "    </tr>\n",
       "    <tr>\n",
       "      <th>4</th>\n",
       "      <td>100007</td>\n",
       "      <td>0</td>\n",
       "      <td>0</td>\n",
       "      <td>121500.0</td>\n",
       "      <td>21865.5</td>\n",
       "      <td>513000.0</td>\n",
       "      <td>0.028663</td>\n",
       "      <td>54.608219</td>\n",
       "      <td>8.323288</td>\n",
       "      <td>0.0</td>\n",
       "      <td>0.322738</td>\n",
       "      <td>0.451486</td>\n",
       "      <td>0.068800</td>\n",
       "      <td>0</td>\n",
       "      <td>0</td>\n",
       "      <td>2</td>\n",
       "      <td>Cash loans</td>\n",
       "      <td>M</td>\n",
       "      <td>N</td>\n",
       "      <td>Y</td>\n",
       "      <td>Working</td>\n",
       "      <td>Single / not married</td>\n",
       "      <td>House / apartment</td>\n",
       "      <td>Core staff</td>\n",
       "      <td>Religion</td>\n",
       "      <td>69.776367</td>\n",
       "      <td>23.461618</td>\n",
       "      <td>1.0</td>\n",
       "      <td>0.0</td>\n",
       "      <td>6.0</td>\n",
       "      <td>150530.25</td>\n",
       "    </tr>\n",
       "  </tbody>\n",
       "</table>\n",
       "</div>"
      ],
      "text/plain": [
       "   SK_ID_CURR  TARGET  CNT_CHILDREN  AMT_INCOME_TOTAL  AMT_ANNUITY  \\\n",
       "0      100002       1             0          202500.0      24700.5   \n",
       "1      100003       0             0          270000.0      35698.5   \n",
       "2      100004       0             0           67500.0       6750.0   \n",
       "3      100006       0             0          135000.0      29686.5   \n",
       "4      100007       0             0          121500.0      21865.5   \n",
       "\n",
       "   AMT_GOODS_PRICE  REGION_POPULATION_RELATIVE  YEARS_BIRTH  YEARS_EMPLOYED  \\\n",
       "0         351000.0                    0.018801    25.920548        1.745205   \n",
       "1        1129500.0                    0.003541    45.931507        3.254795   \n",
       "2         135000.0                    0.010032    52.180822        0.616438   \n",
       "3         297000.0                    0.008019    52.068493        8.326027   \n",
       "4         513000.0                    0.028663    54.608219        8.323288   \n",
       "\n",
       "   OWN_CAR_AGE  EXT_SOURCE_2  EXT_SOURCE_3  TOTALAREA_MODE  \\\n",
       "0          0.0      0.262949      0.139376        0.014900   \n",
       "1          0.0      0.622246      0.380545        0.071400   \n",
       "2         26.0      0.555912      0.729567        0.068559   \n",
       "3          0.0      0.650442      0.451486        0.068800   \n",
       "4          0.0      0.322738      0.451486        0.068800   \n",
       "\n",
       "   DEF_60_CNT_SOCIAL_CIRCLE  AMT_REQ_CREDIT_BUREAU_YEAR  \\\n",
       "0                         2                           1   \n",
       "1                         0                           0   \n",
       "2                         0                           0   \n",
       "3                         0                           1   \n",
       "4                         0                           0   \n",
       "\n",
       "   REGION_RATING_CLIENT_W_CITY NAME_CONTRACT_TYPE CODE_GENDER FLAG_OWN_CAR  \\\n",
       "0                            2         Cash loans           M            N   \n",
       "1                            1         Cash loans           F            N   \n",
       "2                            2    Revolving loans           M            Y   \n",
       "3                            2         Cash loans           F            N   \n",
       "4                            2         Cash loans           M            N   \n",
       "\n",
       "  FLAG_OWN_REALTY NAME_INCOME_TYPE    NAME_FAMILY_STATUS  NAME_HOUSING_TYPE  \\\n",
       "0               Y          Working  Single / not married  House / apartment   \n",
       "1               N    State servant               Married  House / apartment   \n",
       "2               Y          Working  Single / not married  House / apartment   \n",
       "3               Y          Working        Civil marriage  House / apartment   \n",
       "4               Y          Working  Single / not married  House / apartment   \n",
       "\n",
       "  OCCUPATION_TYPE       ORGANIZATION_TYPE  OVERALL_REGION_RATING  \\\n",
       "0        Laborers  Business Entity Type 3             106.377320   \n",
       "1      Core staff                  School             282.406100   \n",
       "2        Laborers              Government             199.362041   \n",
       "3        Laborers  Business Entity Type 3             249.407657   \n",
       "4      Core staff                Religion              69.776367   \n",
       "\n",
       "   LOAN_REPAYMENT_PERIOD  TOTAL_LOANS  AVG_REPAYMENT_DELAY  \\\n",
       "0              16.461104          8.0                  0.0   \n",
       "1              36.234085          4.0                  0.0   \n",
       "2              20.000000          2.0                  0.0   \n",
       "3              10.532818          NaN                  NaN   \n",
       "4              23.461618          1.0                  0.0   \n",
       "\n",
       "   COUNT_PREVIOUS_LOANS  AVG_LOAN_AMOUNT  \n",
       "0                   1.0        179055.00  \n",
       "1                   3.0        435436.50  \n",
       "2                   1.0         24282.00  \n",
       "3                   9.0        272203.26  \n",
       "4                   6.0        150530.25  "
      ]
     },
     "execution_count": 77,
     "metadata": {},
     "output_type": "execute_result"
    }
   ],
   "source": [
    "df_application_train.head()"
   ]
  },
  {
   "cell_type": "code",
   "execution_count": 78,
   "metadata": {},
   "outputs": [
    {
     "data": {
      "text/plain": [
       "SK_ID_CURR                         0\n",
       "TARGET                             0\n",
       "CNT_CHILDREN                       0\n",
       "AMT_INCOME_TOTAL                   0\n",
       "AMT_ANNUITY                        0\n",
       "AMT_GOODS_PRICE                    0\n",
       "REGION_POPULATION_RELATIVE         0\n",
       "YEARS_BIRTH                        0\n",
       "YEARS_EMPLOYED                     0\n",
       "OWN_CAR_AGE                        0\n",
       "EXT_SOURCE_2                       0\n",
       "EXT_SOURCE_3                       0\n",
       "TOTALAREA_MODE                     0\n",
       "DEF_60_CNT_SOCIAL_CIRCLE           0\n",
       "AMT_REQ_CREDIT_BUREAU_YEAR         0\n",
       "REGION_RATING_CLIENT_W_CITY        0\n",
       "NAME_CONTRACT_TYPE                 0\n",
       "CODE_GENDER                        0\n",
       "FLAG_OWN_CAR                       0\n",
       "FLAG_OWN_REALTY                    0\n",
       "NAME_INCOME_TYPE                   0\n",
       "NAME_FAMILY_STATUS                 0\n",
       "NAME_HOUSING_TYPE                  0\n",
       "OCCUPATION_TYPE                    0\n",
       "ORGANIZATION_TYPE                  0\n",
       "OVERALL_REGION_RATING              0\n",
       "LOAN_REPAYMENT_PERIOD              0\n",
       "TOTAL_LOANS                    44020\n",
       "AVG_REPAYMENT_DELAY            44020\n",
       "COUNT_PREVIOUS_LOANS           16454\n",
       "AVG_LOAN_AMOUNT                16454\n",
       "dtype: int64"
      ]
     },
     "execution_count": 78,
     "metadata": {},
     "output_type": "execute_result"
    }
   ],
   "source": [
    "df_application_train.isna().sum()"
   ]
  },
  {
   "cell_type": "markdown",
   "metadata": {},
   "source": [
    "#### 3.5.4 Cleaning After Merging"
   ]
  },
  {
   "cell_type": "code",
   "execution_count": 79,
   "metadata": {},
   "outputs": [],
   "source": [
    "# Filling missing values (if no loans exist for a customer)\n",
    "df_application_train['TOTAL_LOANS'].fillna(0, inplace=True)\n",
    "df_application_train['AVG_REPAYMENT_DELAY'].fillna(0, inplace=True)"
   ]
  },
  {
   "cell_type": "code",
   "execution_count": 80,
   "metadata": {},
   "outputs": [],
   "source": [
    "# Filling missing values (if no previous loans exist for a customer)\n",
    "df_application_train['COUNT_PREVIOUS_LOANS'].fillna(0, inplace=True)\n",
    "df_application_train['AVG_LOAN_AMOUNT'].fillna(0, inplace=True)"
   ]
  },
  {
   "cell_type": "code",
   "execution_count": 81,
   "metadata": {},
   "outputs": [
    {
     "data": {
      "text/plain": [
       "SK_ID_CURR                     0\n",
       "TARGET                         0\n",
       "CNT_CHILDREN                   0\n",
       "AMT_INCOME_TOTAL               0\n",
       "AMT_ANNUITY                    0\n",
       "AMT_GOODS_PRICE                0\n",
       "REGION_POPULATION_RELATIVE     0\n",
       "YEARS_BIRTH                    0\n",
       "YEARS_EMPLOYED                 0\n",
       "OWN_CAR_AGE                    0\n",
       "EXT_SOURCE_2                   0\n",
       "EXT_SOURCE_3                   0\n",
       "TOTALAREA_MODE                 0\n",
       "DEF_60_CNT_SOCIAL_CIRCLE       0\n",
       "AMT_REQ_CREDIT_BUREAU_YEAR     0\n",
       "REGION_RATING_CLIENT_W_CITY    0\n",
       "NAME_CONTRACT_TYPE             0\n",
       "CODE_GENDER                    0\n",
       "FLAG_OWN_CAR                   0\n",
       "FLAG_OWN_REALTY                0\n",
       "NAME_INCOME_TYPE               0\n",
       "NAME_FAMILY_STATUS             0\n",
       "NAME_HOUSING_TYPE              0\n",
       "OCCUPATION_TYPE                0\n",
       "ORGANIZATION_TYPE              0\n",
       "OVERALL_REGION_RATING          0\n",
       "LOAN_REPAYMENT_PERIOD          0\n",
       "TOTAL_LOANS                    0\n",
       "AVG_REPAYMENT_DELAY            0\n",
       "COUNT_PREVIOUS_LOANS           0\n",
       "AVG_LOAN_AMOUNT                0\n",
       "dtype: int64"
      ]
     },
     "execution_count": 81,
     "metadata": {},
     "output_type": "execute_result"
    }
   ],
   "source": [
    "df_application_train.isna().sum()"
   ]
  },
  {
   "cell_type": "code",
   "execution_count": 82,
   "metadata": {},
   "outputs": [
    {
     "name": "stdout",
     "output_type": "stream",
     "text": [
      "<class 'pandas.core.frame.DataFrame'>\n",
      "RangeIndex: 307506 entries, 0 to 307505\n",
      "Data columns (total 31 columns):\n",
      " #   Column                       Non-Null Count   Dtype  \n",
      "---  ------                       --------------   -----  \n",
      " 0   SK_ID_CURR                   307506 non-null  int64  \n",
      " 1   TARGET                       307506 non-null  int64  \n",
      " 2   CNT_CHILDREN                 307506 non-null  int64  \n",
      " 3   AMT_INCOME_TOTAL             307506 non-null  float64\n",
      " 4   AMT_ANNUITY                  307506 non-null  float64\n",
      " 5   AMT_GOODS_PRICE              307506 non-null  float64\n",
      " 6   REGION_POPULATION_RELATIVE   307506 non-null  float64\n",
      " 7   YEARS_BIRTH                  307506 non-null  float64\n",
      " 8   YEARS_EMPLOYED               307506 non-null  float64\n",
      " 9   OWN_CAR_AGE                  307506 non-null  float64\n",
      " 10  EXT_SOURCE_2                 307506 non-null  float64\n",
      " 11  EXT_SOURCE_3                 307506 non-null  float64\n",
      " 12  TOTALAREA_MODE               307506 non-null  float64\n",
      " 13  DEF_60_CNT_SOCIAL_CIRCLE     307506 non-null  int64  \n",
      " 14  AMT_REQ_CREDIT_BUREAU_YEAR   307506 non-null  int64  \n",
      " 15  REGION_RATING_CLIENT_W_CITY  307506 non-null  int64  \n",
      " 16  NAME_CONTRACT_TYPE           307506 non-null  object \n",
      " 17  CODE_GENDER                  307506 non-null  object \n",
      " 18  FLAG_OWN_CAR                 307506 non-null  object \n",
      " 19  FLAG_OWN_REALTY              307506 non-null  object \n",
      " 20  NAME_INCOME_TYPE             307506 non-null  object \n",
      " 21  NAME_FAMILY_STATUS           307506 non-null  object \n",
      " 22  NAME_HOUSING_TYPE            307506 non-null  object \n",
      " 23  OCCUPATION_TYPE              307506 non-null  object \n",
      " 24  ORGANIZATION_TYPE            307506 non-null  object \n",
      " 25  OVERALL_REGION_RATING        307506 non-null  float64\n",
      " 26  LOAN_REPAYMENT_PERIOD        307506 non-null  float64\n",
      " 27  TOTAL_LOANS                  307506 non-null  float64\n",
      " 28  AVG_REPAYMENT_DELAY          307506 non-null  float64\n",
      " 29  COUNT_PREVIOUS_LOANS         307506 non-null  float64\n",
      " 30  AVG_LOAN_AMOUNT              307506 non-null  float64\n",
      "dtypes: float64(16), int64(6), object(9)\n",
      "memory usage: 72.7+ MB\n",
      "None \n",
      "\n",
      "Shape: (307506, 31)\n"
     ]
    }
   ],
   "source": [
    "explore(df_application_train)"
   ]
  },
  {
   "cell_type": "markdown",
   "metadata": {},
   "source": [
    "### 3.6 Normalize Data"
   ]
  },
  {
   "cell_type": "markdown",
   "metadata": {},
   "source": [
    "    Utilize a robust scaler since the data contains significant outliers that should not be clipped."
   ]
  },
  {
   "cell_type": "code",
   "execution_count": 83,
   "metadata": {},
   "outputs": [],
   "source": [
    "numerical = df_application_train.select_dtypes(['int64','float64'])\n",
    "categorical = df_application_train.select_dtypes('object')"
   ]
  },
  {
   "cell_type": "code",
   "execution_count": 84,
   "metadata": {},
   "outputs": [
    {
     "data": {
      "text/plain": [
       "['SK_ID_CURR',\n",
       " 'TARGET',\n",
       " 'CNT_CHILDREN',\n",
       " 'AMT_INCOME_TOTAL',\n",
       " 'AMT_ANNUITY',\n",
       " 'AMT_GOODS_PRICE',\n",
       " 'REGION_POPULATION_RELATIVE',\n",
       " 'YEARS_BIRTH',\n",
       " 'YEARS_EMPLOYED',\n",
       " 'OWN_CAR_AGE',\n",
       " 'EXT_SOURCE_2',\n",
       " 'EXT_SOURCE_3',\n",
       " 'TOTALAREA_MODE',\n",
       " 'DEF_60_CNT_SOCIAL_CIRCLE',\n",
       " 'AMT_REQ_CREDIT_BUREAU_YEAR',\n",
       " 'REGION_RATING_CLIENT_W_CITY',\n",
       " 'OVERALL_REGION_RATING',\n",
       " 'LOAN_REPAYMENT_PERIOD',\n",
       " 'TOTAL_LOANS',\n",
       " 'AVG_REPAYMENT_DELAY',\n",
       " 'COUNT_PREVIOUS_LOANS',\n",
       " 'AVG_LOAN_AMOUNT']"
      ]
     },
     "execution_count": 84,
     "metadata": {},
     "output_type": "execute_result"
    }
   ],
   "source": [
    "numerical_columns = list(numerical.columns)\n",
    "categorical_columns = list(categorical.columns)\n",
    "numerical_columns"
   ]
  },
  {
   "cell_type": "code",
   "execution_count": 85,
   "metadata": {},
   "outputs": [
    {
     "data": {
      "text/plain": [
       "22"
      ]
     },
     "execution_count": 85,
     "metadata": {},
     "output_type": "execute_result"
    }
   ],
   "source": [
    "len(numerical_columns)"
   ]
  },
  {
   "cell_type": "code",
   "execution_count": 86,
   "metadata": {},
   "outputs": [
    {
     "data": {
      "text/html": [
       "<div>\n",
       "<style scoped>\n",
       "    .dataframe tbody tr th:only-of-type {\n",
       "        vertical-align: middle;\n",
       "    }\n",
       "\n",
       "    .dataframe tbody tr th {\n",
       "        vertical-align: top;\n",
       "    }\n",
       "\n",
       "    .dataframe thead th {\n",
       "        text-align: right;\n",
       "    }\n",
       "</style>\n",
       "<table border=\"1\" class=\"dataframe\">\n",
       "  <thead>\n",
       "    <tr style=\"text-align: right;\">\n",
       "      <th></th>\n",
       "      <th>SK_ID_CURR</th>\n",
       "      <th>TARGET</th>\n",
       "      <th>CNT_CHILDREN</th>\n",
       "      <th>AMT_INCOME_TOTAL</th>\n",
       "      <th>AMT_ANNUITY</th>\n",
       "      <th>AMT_GOODS_PRICE</th>\n",
       "      <th>REGION_POPULATION_RELATIVE</th>\n",
       "      <th>YEARS_BIRTH</th>\n",
       "      <th>YEARS_EMPLOYED</th>\n",
       "      <th>OWN_CAR_AGE</th>\n",
       "      <th>EXT_SOURCE_2</th>\n",
       "      <th>EXT_SOURCE_3</th>\n",
       "      <th>TOTALAREA_MODE</th>\n",
       "      <th>DEF_60_CNT_SOCIAL_CIRCLE</th>\n",
       "      <th>AMT_REQ_CREDIT_BUREAU_YEAR</th>\n",
       "      <th>REGION_RATING_CLIENT_W_CITY</th>\n",
       "      <th>OVERALL_REGION_RATING</th>\n",
       "      <th>LOAN_REPAYMENT_PERIOD</th>\n",
       "      <th>TOTAL_LOANS</th>\n",
       "      <th>AVG_REPAYMENT_DELAY</th>\n",
       "      <th>COUNT_PREVIOUS_LOANS</th>\n",
       "      <th>AVG_LOAN_AMOUNT</th>\n",
       "    </tr>\n",
       "  </thead>\n",
       "  <tbody>\n",
       "    <tr>\n",
       "      <th>0</th>\n",
       "      <td>100002</td>\n",
       "      <td>1</td>\n",
       "      <td>0</td>\n",
       "      <td>202500.0</td>\n",
       "      <td>24700.5</td>\n",
       "      <td>351000.0</td>\n",
       "      <td>0.018801</td>\n",
       "      <td>25.920548</td>\n",
       "      <td>1.745205</td>\n",
       "      <td>0.0</td>\n",
       "      <td>0.262949</td>\n",
       "      <td>0.139376</td>\n",
       "      <td>0.014900</td>\n",
       "      <td>2</td>\n",
       "      <td>1</td>\n",
       "      <td>2</td>\n",
       "      <td>106.377320</td>\n",
       "      <td>16.461104</td>\n",
       "      <td>8.0</td>\n",
       "      <td>0.0</td>\n",
       "      <td>1.0</td>\n",
       "      <td>179055.00</td>\n",
       "    </tr>\n",
       "    <tr>\n",
       "      <th>1</th>\n",
       "      <td>100003</td>\n",
       "      <td>0</td>\n",
       "      <td>0</td>\n",
       "      <td>270000.0</td>\n",
       "      <td>35698.5</td>\n",
       "      <td>1129500.0</td>\n",
       "      <td>0.003541</td>\n",
       "      <td>45.931507</td>\n",
       "      <td>3.254795</td>\n",
       "      <td>0.0</td>\n",
       "      <td>0.622246</td>\n",
       "      <td>0.380545</td>\n",
       "      <td>0.071400</td>\n",
       "      <td>0</td>\n",
       "      <td>0</td>\n",
       "      <td>1</td>\n",
       "      <td>282.406100</td>\n",
       "      <td>36.234085</td>\n",
       "      <td>4.0</td>\n",
       "      <td>0.0</td>\n",
       "      <td>3.0</td>\n",
       "      <td>435436.50</td>\n",
       "    </tr>\n",
       "    <tr>\n",
       "      <th>2</th>\n",
       "      <td>100004</td>\n",
       "      <td>0</td>\n",
       "      <td>0</td>\n",
       "      <td>67500.0</td>\n",
       "      <td>6750.0</td>\n",
       "      <td>135000.0</td>\n",
       "      <td>0.010032</td>\n",
       "      <td>52.180822</td>\n",
       "      <td>0.616438</td>\n",
       "      <td>26.0</td>\n",
       "      <td>0.555912</td>\n",
       "      <td>0.729567</td>\n",
       "      <td>0.068559</td>\n",
       "      <td>0</td>\n",
       "      <td>0</td>\n",
       "      <td>2</td>\n",
       "      <td>199.362041</td>\n",
       "      <td>20.000000</td>\n",
       "      <td>2.0</td>\n",
       "      <td>0.0</td>\n",
       "      <td>1.0</td>\n",
       "      <td>24282.00</td>\n",
       "    </tr>\n",
       "    <tr>\n",
       "      <th>3</th>\n",
       "      <td>100006</td>\n",
       "      <td>0</td>\n",
       "      <td>0</td>\n",
       "      <td>135000.0</td>\n",
       "      <td>29686.5</td>\n",
       "      <td>297000.0</td>\n",
       "      <td>0.008019</td>\n",
       "      <td>52.068493</td>\n",
       "      <td>8.326027</td>\n",
       "      <td>0.0</td>\n",
       "      <td>0.650442</td>\n",
       "      <td>0.451486</td>\n",
       "      <td>0.068800</td>\n",
       "      <td>0</td>\n",
       "      <td>1</td>\n",
       "      <td>2</td>\n",
       "      <td>249.407657</td>\n",
       "      <td>10.532818</td>\n",
       "      <td>0.0</td>\n",
       "      <td>0.0</td>\n",
       "      <td>9.0</td>\n",
       "      <td>272203.26</td>\n",
       "    </tr>\n",
       "    <tr>\n",
       "      <th>4</th>\n",
       "      <td>100007</td>\n",
       "      <td>0</td>\n",
       "      <td>0</td>\n",
       "      <td>121500.0</td>\n",
       "      <td>21865.5</td>\n",
       "      <td>513000.0</td>\n",
       "      <td>0.028663</td>\n",
       "      <td>54.608219</td>\n",
       "      <td>8.323288</td>\n",
       "      <td>0.0</td>\n",
       "      <td>0.322738</td>\n",
       "      <td>0.451486</td>\n",
       "      <td>0.068800</td>\n",
       "      <td>0</td>\n",
       "      <td>0</td>\n",
       "      <td>2</td>\n",
       "      <td>69.776367</td>\n",
       "      <td>23.461618</td>\n",
       "      <td>1.0</td>\n",
       "      <td>0.0</td>\n",
       "      <td>6.0</td>\n",
       "      <td>150530.25</td>\n",
       "    </tr>\n",
       "  </tbody>\n",
       "</table>\n",
       "</div>"
      ],
      "text/plain": [
       "   SK_ID_CURR  TARGET  CNT_CHILDREN  AMT_INCOME_TOTAL  AMT_ANNUITY  \\\n",
       "0      100002       1             0          202500.0      24700.5   \n",
       "1      100003       0             0          270000.0      35698.5   \n",
       "2      100004       0             0           67500.0       6750.0   \n",
       "3      100006       0             0          135000.0      29686.5   \n",
       "4      100007       0             0          121500.0      21865.5   \n",
       "\n",
       "   AMT_GOODS_PRICE  REGION_POPULATION_RELATIVE  YEARS_BIRTH  YEARS_EMPLOYED  \\\n",
       "0         351000.0                    0.018801    25.920548        1.745205   \n",
       "1        1129500.0                    0.003541    45.931507        3.254795   \n",
       "2         135000.0                    0.010032    52.180822        0.616438   \n",
       "3         297000.0                    0.008019    52.068493        8.326027   \n",
       "4         513000.0                    0.028663    54.608219        8.323288   \n",
       "\n",
       "   OWN_CAR_AGE  EXT_SOURCE_2  EXT_SOURCE_3  TOTALAREA_MODE  \\\n",
       "0          0.0      0.262949      0.139376        0.014900   \n",
       "1          0.0      0.622246      0.380545        0.071400   \n",
       "2         26.0      0.555912      0.729567        0.068559   \n",
       "3          0.0      0.650442      0.451486        0.068800   \n",
       "4          0.0      0.322738      0.451486        0.068800   \n",
       "\n",
       "   DEF_60_CNT_SOCIAL_CIRCLE  AMT_REQ_CREDIT_BUREAU_YEAR  \\\n",
       "0                         2                           1   \n",
       "1                         0                           0   \n",
       "2                         0                           0   \n",
       "3                         0                           1   \n",
       "4                         0                           0   \n",
       "\n",
       "   REGION_RATING_CLIENT_W_CITY  OVERALL_REGION_RATING  LOAN_REPAYMENT_PERIOD  \\\n",
       "0                            2             106.377320              16.461104   \n",
       "1                            1             282.406100              36.234085   \n",
       "2                            2             199.362041              20.000000   \n",
       "3                            2             249.407657              10.532818   \n",
       "4                            2              69.776367              23.461618   \n",
       "\n",
       "   TOTAL_LOANS  AVG_REPAYMENT_DELAY  COUNT_PREVIOUS_LOANS  AVG_LOAN_AMOUNT  \n",
       "0          8.0                  0.0                   1.0        179055.00  \n",
       "1          4.0                  0.0                   3.0        435436.50  \n",
       "2          2.0                  0.0                   1.0         24282.00  \n",
       "3          0.0                  0.0                   9.0        272203.26  \n",
       "4          1.0                  0.0                   6.0        150530.25  "
      ]
     },
     "execution_count": 86,
     "metadata": {},
     "output_type": "execute_result"
    }
   ],
   "source": [
    "numerical.head()"
   ]
  },
  {
   "cell_type": "code",
   "execution_count": 87,
   "metadata": {},
   "outputs": [],
   "source": [
    "scaler = RobustScaler()\n",
    "scaled_data = scaler.fit_transform(numerical)"
   ]
  },
  {
   "cell_type": "code",
   "execution_count": 88,
   "metadata": {},
   "outputs": [
    {
     "data": {
      "text/plain": [
       "True"
      ]
     },
     "execution_count": 88,
     "metadata": {},
     "output_type": "execute_result"
    }
   ],
   "source": [
    "len(scaled_data[0]) == len(numerical_columns)"
   ]
  },
  {
   "cell_type": "code",
   "execution_count": 89,
   "metadata": {},
   "outputs": [
    {
     "data": {
      "text/html": [
       "<div>\n",
       "<style scoped>\n",
       "    .dataframe tbody tr th:only-of-type {\n",
       "        vertical-align: middle;\n",
       "    }\n",
       "\n",
       "    .dataframe tbody tr th {\n",
       "        vertical-align: top;\n",
       "    }\n",
       "\n",
       "    .dataframe thead th {\n",
       "        text-align: right;\n",
       "    }\n",
       "</style>\n",
       "<table border=\"1\" class=\"dataframe\">\n",
       "  <thead>\n",
       "    <tr style=\"text-align: right;\">\n",
       "      <th></th>\n",
       "      <th>SK_ID_CURR</th>\n",
       "      <th>TARGET</th>\n",
       "      <th>CNT_CHILDREN</th>\n",
       "      <th>AMT_INCOME_TOTAL</th>\n",
       "      <th>AMT_ANNUITY</th>\n",
       "      <th>AMT_GOODS_PRICE</th>\n",
       "      <th>REGION_POPULATION_RELATIVE</th>\n",
       "      <th>YEARS_BIRTH</th>\n",
       "      <th>YEARS_EMPLOYED</th>\n",
       "      <th>OWN_CAR_AGE</th>\n",
       "      <th>EXT_SOURCE_2</th>\n",
       "      <th>EXT_SOURCE_3</th>\n",
       "      <th>TOTALAREA_MODE</th>\n",
       "      <th>DEF_60_CNT_SOCIAL_CIRCLE</th>\n",
       "      <th>AMT_REQ_CREDIT_BUREAU_YEAR</th>\n",
       "      <th>REGION_RATING_CLIENT_W_CITY</th>\n",
       "      <th>OVERALL_REGION_RATING</th>\n",
       "      <th>LOAN_REPAYMENT_PERIOD</th>\n",
       "      <th>TOTAL_LOANS</th>\n",
       "      <th>AVG_REPAYMENT_DELAY</th>\n",
       "      <th>COUNT_PREVIOUS_LOANS</th>\n",
       "      <th>AVG_LOAN_AMOUNT</th>\n",
       "    </tr>\n",
       "  </thead>\n",
       "  <tbody>\n",
       "    <tr>\n",
       "      <th>0</th>\n",
       "      <td>-1.001153</td>\n",
       "      <td>1.0</td>\n",
       "      <td>0.0</td>\n",
       "      <td>0.615</td>\n",
       "      <td>-0.011205</td>\n",
       "      <td>-0.224490</td>\n",
       "      <td>-0.002626</td>\n",
       "      <td>-0.865181</td>\n",
       "      <td>-0.865900</td>\n",
       "      <td>0.0</td>\n",
       "      <td>-1.120416</td>\n",
       "      <td>-1.538211</td>\n",
       "      <td>-8.985319</td>\n",
       "      <td>2.0</td>\n",
       "      <td>0.0</td>\n",
       "      <td>0.0</td>\n",
       "      <td>0.000000</td>\n",
       "      <td>-0.308110</td>\n",
       "      <td>0.666667</td>\n",
       "      <td>0.0</td>\n",
       "      <td>-0.50</td>\n",
       "      <td>0.618981</td>\n",
       "    </tr>\n",
       "    <tr>\n",
       "      <th>1</th>\n",
       "      <td>-1.001147</td>\n",
       "      <td>0.0</td>\n",
       "      <td>0.0</td>\n",
       "      <td>1.365</td>\n",
       "      <td>0.597361</td>\n",
       "      <td>1.540816</td>\n",
       "      <td>-0.820550</td>\n",
       "      <td>0.139634</td>\n",
       "      <td>-0.564313</td>\n",
       "      <td>0.0</td>\n",
       "      <td>0.208116</td>\n",
       "      <td>-0.525522</td>\n",
       "      <td>0.433429</td>\n",
       "      <td>0.0</td>\n",
       "      <td>-0.5</td>\n",
       "      <td>-1.0</td>\n",
       "      <td>1.276422</td>\n",
       "      <td>1.413402</td>\n",
       "      <td>0.000000</td>\n",
       "      <td>0.0</td>\n",
       "      <td>0.00</td>\n",
       "      <td>2.622489</td>\n",
       "    </tr>\n",
       "    <tr>\n",
       "      <th>2</th>\n",
       "      <td>-1.001142</td>\n",
       "      <td>0.0</td>\n",
       "      <td>0.0</td>\n",
       "      <td>-0.885</td>\n",
       "      <td>-1.004482</td>\n",
       "      <td>-0.714286</td>\n",
       "      <td>-0.472638</td>\n",
       "      <td>0.453432</td>\n",
       "      <td>-1.091407</td>\n",
       "      <td>5.2</td>\n",
       "      <td>-0.037158</td>\n",
       "      <td>0.940050</td>\n",
       "      <td>-0.040147</td>\n",
       "      <td>0.0</td>\n",
       "      <td>-0.5</td>\n",
       "      <td>0.0</td>\n",
       "      <td>0.674252</td>\n",
       "      <td>0.000000</td>\n",
       "      <td>-0.333333</td>\n",
       "      <td>0.0</td>\n",
       "      <td>-0.50</td>\n",
       "      <td>-0.590501</td>\n",
       "    </tr>\n",
       "    <tr>\n",
       "      <th>3</th>\n",
       "      <td>-1.001131</td>\n",
       "      <td>0.0</td>\n",
       "      <td>0.0</td>\n",
       "      <td>-0.135</td>\n",
       "      <td>0.264691</td>\n",
       "      <td>-0.346939</td>\n",
       "      <td>-0.580533</td>\n",
       "      <td>0.447792</td>\n",
       "      <td>0.448823</td>\n",
       "      <td>0.0</td>\n",
       "      <td>0.312373</td>\n",
       "      <td>-0.227633</td>\n",
       "      <td>0.000000</td>\n",
       "      <td>0.0</td>\n",
       "      <td>0.0</td>\n",
       "      <td>0.0</td>\n",
       "      <td>1.037143</td>\n",
       "      <td>-0.824249</td>\n",
       "      <td>-0.666667</td>\n",
       "      <td>0.0</td>\n",
       "      <td>1.50</td>\n",
       "      <td>1.346894</td>\n",
       "    </tr>\n",
       "    <tr>\n",
       "      <th>4</th>\n",
       "      <td>-1.001125</td>\n",
       "      <td>0.0</td>\n",
       "      <td>0.0</td>\n",
       "      <td>-0.285</td>\n",
       "      <td>-0.168078</td>\n",
       "      <td>0.142857</td>\n",
       "      <td>0.525969</td>\n",
       "      <td>0.575320</td>\n",
       "      <td>0.448276</td>\n",
       "      <td>0.0</td>\n",
       "      <td>-0.899338</td>\n",
       "      <td>-0.227633</td>\n",
       "      <td>0.000000</td>\n",
       "      <td>0.0</td>\n",
       "      <td>-0.5</td>\n",
       "      <td>0.0</td>\n",
       "      <td>-0.265401</td>\n",
       "      <td>0.301382</td>\n",
       "      <td>-0.500000</td>\n",
       "      <td>0.0</td>\n",
       "      <td>0.75</td>\n",
       "      <td>0.396073</td>\n",
       "    </tr>\n",
       "  </tbody>\n",
       "</table>\n",
       "</div>"
      ],
      "text/plain": [
       "   SK_ID_CURR  TARGET  CNT_CHILDREN  AMT_INCOME_TOTAL  AMT_ANNUITY  \\\n",
       "0   -1.001153     1.0           0.0             0.615    -0.011205   \n",
       "1   -1.001147     0.0           0.0             1.365     0.597361   \n",
       "2   -1.001142     0.0           0.0            -0.885    -1.004482   \n",
       "3   -1.001131     0.0           0.0            -0.135     0.264691   \n",
       "4   -1.001125     0.0           0.0            -0.285    -0.168078   \n",
       "\n",
       "   AMT_GOODS_PRICE  REGION_POPULATION_RELATIVE  YEARS_BIRTH  YEARS_EMPLOYED  \\\n",
       "0        -0.224490                   -0.002626    -0.865181       -0.865900   \n",
       "1         1.540816                   -0.820550     0.139634       -0.564313   \n",
       "2        -0.714286                   -0.472638     0.453432       -1.091407   \n",
       "3        -0.346939                   -0.580533     0.447792        0.448823   \n",
       "4         0.142857                    0.525969     0.575320        0.448276   \n",
       "\n",
       "   OWN_CAR_AGE  EXT_SOURCE_2  EXT_SOURCE_3  TOTALAREA_MODE  \\\n",
       "0          0.0     -1.120416     -1.538211       -8.985319   \n",
       "1          0.0      0.208116     -0.525522        0.433429   \n",
       "2          5.2     -0.037158      0.940050       -0.040147   \n",
       "3          0.0      0.312373     -0.227633        0.000000   \n",
       "4          0.0     -0.899338     -0.227633        0.000000   \n",
       "\n",
       "   DEF_60_CNT_SOCIAL_CIRCLE  AMT_REQ_CREDIT_BUREAU_YEAR  \\\n",
       "0                       2.0                         0.0   \n",
       "1                       0.0                        -0.5   \n",
       "2                       0.0                        -0.5   \n",
       "3                       0.0                         0.0   \n",
       "4                       0.0                        -0.5   \n",
       "\n",
       "   REGION_RATING_CLIENT_W_CITY  OVERALL_REGION_RATING  LOAN_REPAYMENT_PERIOD  \\\n",
       "0                          0.0               0.000000              -0.308110   \n",
       "1                         -1.0               1.276422               1.413402   \n",
       "2                          0.0               0.674252               0.000000   \n",
       "3                          0.0               1.037143              -0.824249   \n",
       "4                          0.0              -0.265401               0.301382   \n",
       "\n",
       "   TOTAL_LOANS  AVG_REPAYMENT_DELAY  COUNT_PREVIOUS_LOANS  AVG_LOAN_AMOUNT  \n",
       "0     0.666667                  0.0                 -0.50         0.618981  \n",
       "1     0.000000                  0.0                  0.00         2.622489  \n",
       "2    -0.333333                  0.0                 -0.50        -0.590501  \n",
       "3    -0.666667                  0.0                  1.50         1.346894  \n",
       "4    -0.500000                  0.0                  0.75         0.396073  "
      ]
     },
     "execution_count": 89,
     "metadata": {},
     "output_type": "execute_result"
    }
   ],
   "source": [
    "df_scaled = pd.DataFrame(scaled_data, columns= numerical_columns)\n",
    "df_scaled.head()"
   ]
  },
  {
   "cell_type": "markdown",
   "metadata": {},
   "source": [
    "### 3.7 Prepare Data"
   ]
  },
  {
   "cell_type": "code",
   "execution_count": 90,
   "metadata": {},
   "outputs": [],
   "source": [
    "df_scaled.drop(['SK_ID_CURR', 'REGION_RATING_CLIENT_W_CITY'], axis=1, inplace=True)"
   ]
  },
  {
   "cell_type": "code",
   "execution_count": 91,
   "metadata": {},
   "outputs": [
    {
     "name": "stdout",
     "output_type": "stream",
     "text": [
      "<class 'pandas.core.frame.DataFrame'>\n",
      "RangeIndex: 307506 entries, 0 to 307505\n",
      "Data columns (total 20 columns):\n",
      " #   Column                      Non-Null Count   Dtype  \n",
      "---  ------                      --------------   -----  \n",
      " 0   TARGET                      307506 non-null  float64\n",
      " 1   CNT_CHILDREN                307506 non-null  float64\n",
      " 2   AMT_INCOME_TOTAL            307506 non-null  float64\n",
      " 3   AMT_ANNUITY                 307506 non-null  float64\n",
      " 4   AMT_GOODS_PRICE             307506 non-null  float64\n",
      " 5   REGION_POPULATION_RELATIVE  307506 non-null  float64\n",
      " 6   YEARS_BIRTH                 307506 non-null  float64\n",
      " 7   YEARS_EMPLOYED              307506 non-null  float64\n",
      " 8   OWN_CAR_AGE                 307506 non-null  float64\n",
      " 9   EXT_SOURCE_2                307506 non-null  float64\n",
      " 10  EXT_SOURCE_3                307506 non-null  float64\n",
      " 11  TOTALAREA_MODE              307506 non-null  float64\n",
      " 12  DEF_60_CNT_SOCIAL_CIRCLE    307506 non-null  float64\n",
      " 13  AMT_REQ_CREDIT_BUREAU_YEAR  307506 non-null  float64\n",
      " 14  OVERALL_REGION_RATING       307506 non-null  float64\n",
      " 15  LOAN_REPAYMENT_PERIOD       307506 non-null  float64\n",
      " 16  TOTAL_LOANS                 307506 non-null  float64\n",
      " 17  AVG_REPAYMENT_DELAY         307506 non-null  float64\n",
      " 18  COUNT_PREVIOUS_LOANS        307506 non-null  float64\n",
      " 19  AVG_LOAN_AMOUNT             307506 non-null  float64\n",
      "dtypes: float64(20)\n",
      "memory usage: 46.9 MB\n",
      "None \n",
      "\n",
      "Shape: (307506, 20)\n"
     ]
    }
   ],
   "source": [
    "explore(df_scaled)"
   ]
  },
  {
   "cell_type": "code",
   "execution_count": 92,
   "metadata": {},
   "outputs": [
    {
     "name": "stdout",
     "output_type": "stream",
     "text": [
      "<class 'pandas.core.frame.DataFrame'>\n",
      "RangeIndex: 307506 entries, 0 to 307505\n",
      "Data columns (total 9 columns):\n",
      " #   Column              Non-Null Count   Dtype \n",
      "---  ------              --------------   ----- \n",
      " 0   NAME_CONTRACT_TYPE  307506 non-null  object\n",
      " 1   CODE_GENDER         307506 non-null  object\n",
      " 2   FLAG_OWN_CAR        307506 non-null  object\n",
      " 3   FLAG_OWN_REALTY     307506 non-null  object\n",
      " 4   NAME_INCOME_TYPE    307506 non-null  object\n",
      " 5   NAME_FAMILY_STATUS  307506 non-null  object\n",
      " 6   NAME_HOUSING_TYPE   307506 non-null  object\n",
      " 7   OCCUPATION_TYPE     307506 non-null  object\n",
      " 8   ORGANIZATION_TYPE   307506 non-null  object\n",
      "dtypes: object(9)\n",
      "memory usage: 21.1+ MB\n",
      "None \n",
      "\n",
      "Shape: (307506, 9)\n"
     ]
    }
   ],
   "source": [
    "explore(categorical)"
   ]
  },
  {
   "cell_type": "code",
   "execution_count": 93,
   "metadata": {},
   "outputs": [],
   "source": [
    "df_processed = pd.concat([df_scaled, categorical], axis=1)"
   ]
  },
  {
   "cell_type": "code",
   "execution_count": 94,
   "metadata": {},
   "outputs": [
    {
     "name": "stdout",
     "output_type": "stream",
     "text": [
      "<class 'pandas.core.frame.DataFrame'>\n",
      "RangeIndex: 307506 entries, 0 to 307505\n",
      "Data columns (total 29 columns):\n",
      " #   Column                      Non-Null Count   Dtype  \n",
      "---  ------                      --------------   -----  \n",
      " 0   TARGET                      307506 non-null  float64\n",
      " 1   CNT_CHILDREN                307506 non-null  float64\n",
      " 2   AMT_INCOME_TOTAL            307506 non-null  float64\n",
      " 3   AMT_ANNUITY                 307506 non-null  float64\n",
      " 4   AMT_GOODS_PRICE             307506 non-null  float64\n",
      " 5   REGION_POPULATION_RELATIVE  307506 non-null  float64\n",
      " 6   YEARS_BIRTH                 307506 non-null  float64\n",
      " 7   YEARS_EMPLOYED              307506 non-null  float64\n",
      " 8   OWN_CAR_AGE                 307506 non-null  float64\n",
      " 9   EXT_SOURCE_2                307506 non-null  float64\n",
      " 10  EXT_SOURCE_3                307506 non-null  float64\n",
      " 11  TOTALAREA_MODE              307506 non-null  float64\n",
      " 12  DEF_60_CNT_SOCIAL_CIRCLE    307506 non-null  float64\n",
      " 13  AMT_REQ_CREDIT_BUREAU_YEAR  307506 non-null  float64\n",
      " 14  OVERALL_REGION_RATING       307506 non-null  float64\n",
      " 15  LOAN_REPAYMENT_PERIOD       307506 non-null  float64\n",
      " 16  TOTAL_LOANS                 307506 non-null  float64\n",
      " 17  AVG_REPAYMENT_DELAY         307506 non-null  float64\n",
      " 18  COUNT_PREVIOUS_LOANS        307506 non-null  float64\n",
      " 19  AVG_LOAN_AMOUNT             307506 non-null  float64\n",
      " 20  NAME_CONTRACT_TYPE          307506 non-null  object \n",
      " 21  CODE_GENDER                 307506 non-null  object \n",
      " 22  FLAG_OWN_CAR                307506 non-null  object \n",
      " 23  FLAG_OWN_REALTY             307506 non-null  object \n",
      " 24  NAME_INCOME_TYPE            307506 non-null  object \n",
      " 25  NAME_FAMILY_STATUS          307506 non-null  object \n",
      " 26  NAME_HOUSING_TYPE           307506 non-null  object \n",
      " 27  OCCUPATION_TYPE             307506 non-null  object \n",
      " 28  ORGANIZATION_TYPE           307506 non-null  object \n",
      "dtypes: float64(20), object(9)\n",
      "memory usage: 68.0+ MB\n",
      "None \n",
      "\n",
      "Shape: (307506, 29)\n"
     ]
    }
   ],
   "source": [
    "explore(df_processed)"
   ]
  },
  {
   "cell_type": "code",
   "execution_count": 95,
   "metadata": {},
   "outputs": [
    {
     "data": {
      "text/html": [
       "<div>\n",
       "<style scoped>\n",
       "    .dataframe tbody tr th:only-of-type {\n",
       "        vertical-align: middle;\n",
       "    }\n",
       "\n",
       "    .dataframe tbody tr th {\n",
       "        vertical-align: top;\n",
       "    }\n",
       "\n",
       "    .dataframe thead th {\n",
       "        text-align: right;\n",
       "    }\n",
       "</style>\n",
       "<table border=\"1\" class=\"dataframe\">\n",
       "  <thead>\n",
       "    <tr style=\"text-align: right;\">\n",
       "      <th></th>\n",
       "      <th>TARGET</th>\n",
       "      <th>CNT_CHILDREN</th>\n",
       "      <th>AMT_INCOME_TOTAL</th>\n",
       "      <th>AMT_ANNUITY</th>\n",
       "      <th>AMT_GOODS_PRICE</th>\n",
       "      <th>REGION_POPULATION_RELATIVE</th>\n",
       "      <th>YEARS_BIRTH</th>\n",
       "      <th>YEARS_EMPLOYED</th>\n",
       "      <th>OWN_CAR_AGE</th>\n",
       "      <th>EXT_SOURCE_2</th>\n",
       "      <th>EXT_SOURCE_3</th>\n",
       "      <th>TOTALAREA_MODE</th>\n",
       "      <th>DEF_60_CNT_SOCIAL_CIRCLE</th>\n",
       "      <th>AMT_REQ_CREDIT_BUREAU_YEAR</th>\n",
       "      <th>OVERALL_REGION_RATING</th>\n",
       "      <th>LOAN_REPAYMENT_PERIOD</th>\n",
       "      <th>TOTAL_LOANS</th>\n",
       "      <th>AVG_REPAYMENT_DELAY</th>\n",
       "      <th>COUNT_PREVIOUS_LOANS</th>\n",
       "      <th>AVG_LOAN_AMOUNT</th>\n",
       "      <th>NAME_CONTRACT_TYPE</th>\n",
       "      <th>CODE_GENDER</th>\n",
       "      <th>FLAG_OWN_CAR</th>\n",
       "      <th>FLAG_OWN_REALTY</th>\n",
       "      <th>NAME_INCOME_TYPE</th>\n",
       "      <th>NAME_FAMILY_STATUS</th>\n",
       "      <th>NAME_HOUSING_TYPE</th>\n",
       "      <th>OCCUPATION_TYPE</th>\n",
       "      <th>ORGANIZATION_TYPE</th>\n",
       "    </tr>\n",
       "  </thead>\n",
       "  <tbody>\n",
       "    <tr>\n",
       "      <th>0</th>\n",
       "      <td>1.0</td>\n",
       "      <td>0.0</td>\n",
       "      <td>0.615</td>\n",
       "      <td>-0.011205</td>\n",
       "      <td>-0.224490</td>\n",
       "      <td>-0.002626</td>\n",
       "      <td>-0.865181</td>\n",
       "      <td>-0.865900</td>\n",
       "      <td>0.0</td>\n",
       "      <td>-1.120416</td>\n",
       "      <td>-1.538211</td>\n",
       "      <td>-8.985319</td>\n",
       "      <td>2.0</td>\n",
       "      <td>0.0</td>\n",
       "      <td>0.000000</td>\n",
       "      <td>-0.308110</td>\n",
       "      <td>0.666667</td>\n",
       "      <td>0.0</td>\n",
       "      <td>-0.50</td>\n",
       "      <td>0.618981</td>\n",
       "      <td>Cash loans</td>\n",
       "      <td>M</td>\n",
       "      <td>N</td>\n",
       "      <td>Y</td>\n",
       "      <td>Working</td>\n",
       "      <td>Single / not married</td>\n",
       "      <td>House / apartment</td>\n",
       "      <td>Laborers</td>\n",
       "      <td>Business Entity Type 3</td>\n",
       "    </tr>\n",
       "    <tr>\n",
       "      <th>1</th>\n",
       "      <td>0.0</td>\n",
       "      <td>0.0</td>\n",
       "      <td>1.365</td>\n",
       "      <td>0.597361</td>\n",
       "      <td>1.540816</td>\n",
       "      <td>-0.820550</td>\n",
       "      <td>0.139634</td>\n",
       "      <td>-0.564313</td>\n",
       "      <td>0.0</td>\n",
       "      <td>0.208116</td>\n",
       "      <td>-0.525522</td>\n",
       "      <td>0.433429</td>\n",
       "      <td>0.0</td>\n",
       "      <td>-0.5</td>\n",
       "      <td>1.276422</td>\n",
       "      <td>1.413402</td>\n",
       "      <td>0.000000</td>\n",
       "      <td>0.0</td>\n",
       "      <td>0.00</td>\n",
       "      <td>2.622489</td>\n",
       "      <td>Cash loans</td>\n",
       "      <td>F</td>\n",
       "      <td>N</td>\n",
       "      <td>N</td>\n",
       "      <td>State servant</td>\n",
       "      <td>Married</td>\n",
       "      <td>House / apartment</td>\n",
       "      <td>Core staff</td>\n",
       "      <td>School</td>\n",
       "    </tr>\n",
       "    <tr>\n",
       "      <th>2</th>\n",
       "      <td>0.0</td>\n",
       "      <td>0.0</td>\n",
       "      <td>-0.885</td>\n",
       "      <td>-1.004482</td>\n",
       "      <td>-0.714286</td>\n",
       "      <td>-0.472638</td>\n",
       "      <td>0.453432</td>\n",
       "      <td>-1.091407</td>\n",
       "      <td>5.2</td>\n",
       "      <td>-0.037158</td>\n",
       "      <td>0.940050</td>\n",
       "      <td>-0.040147</td>\n",
       "      <td>0.0</td>\n",
       "      <td>-0.5</td>\n",
       "      <td>0.674252</td>\n",
       "      <td>0.000000</td>\n",
       "      <td>-0.333333</td>\n",
       "      <td>0.0</td>\n",
       "      <td>-0.50</td>\n",
       "      <td>-0.590501</td>\n",
       "      <td>Revolving loans</td>\n",
       "      <td>M</td>\n",
       "      <td>Y</td>\n",
       "      <td>Y</td>\n",
       "      <td>Working</td>\n",
       "      <td>Single / not married</td>\n",
       "      <td>House / apartment</td>\n",
       "      <td>Laborers</td>\n",
       "      <td>Government</td>\n",
       "    </tr>\n",
       "    <tr>\n",
       "      <th>3</th>\n",
       "      <td>0.0</td>\n",
       "      <td>0.0</td>\n",
       "      <td>-0.135</td>\n",
       "      <td>0.264691</td>\n",
       "      <td>-0.346939</td>\n",
       "      <td>-0.580533</td>\n",
       "      <td>0.447792</td>\n",
       "      <td>0.448823</td>\n",
       "      <td>0.0</td>\n",
       "      <td>0.312373</td>\n",
       "      <td>-0.227633</td>\n",
       "      <td>0.000000</td>\n",
       "      <td>0.0</td>\n",
       "      <td>0.0</td>\n",
       "      <td>1.037143</td>\n",
       "      <td>-0.824249</td>\n",
       "      <td>-0.666667</td>\n",
       "      <td>0.0</td>\n",
       "      <td>1.50</td>\n",
       "      <td>1.346894</td>\n",
       "      <td>Cash loans</td>\n",
       "      <td>F</td>\n",
       "      <td>N</td>\n",
       "      <td>Y</td>\n",
       "      <td>Working</td>\n",
       "      <td>Civil marriage</td>\n",
       "      <td>House / apartment</td>\n",
       "      <td>Laborers</td>\n",
       "      <td>Business Entity Type 3</td>\n",
       "    </tr>\n",
       "    <tr>\n",
       "      <th>4</th>\n",
       "      <td>0.0</td>\n",
       "      <td>0.0</td>\n",
       "      <td>-0.285</td>\n",
       "      <td>-0.168078</td>\n",
       "      <td>0.142857</td>\n",
       "      <td>0.525969</td>\n",
       "      <td>0.575320</td>\n",
       "      <td>0.448276</td>\n",
       "      <td>0.0</td>\n",
       "      <td>-0.899338</td>\n",
       "      <td>-0.227633</td>\n",
       "      <td>0.000000</td>\n",
       "      <td>0.0</td>\n",
       "      <td>-0.5</td>\n",
       "      <td>-0.265401</td>\n",
       "      <td>0.301382</td>\n",
       "      <td>-0.500000</td>\n",
       "      <td>0.0</td>\n",
       "      <td>0.75</td>\n",
       "      <td>0.396073</td>\n",
       "      <td>Cash loans</td>\n",
       "      <td>M</td>\n",
       "      <td>N</td>\n",
       "      <td>Y</td>\n",
       "      <td>Working</td>\n",
       "      <td>Single / not married</td>\n",
       "      <td>House / apartment</td>\n",
       "      <td>Core staff</td>\n",
       "      <td>Religion</td>\n",
       "    </tr>\n",
       "  </tbody>\n",
       "</table>\n",
       "</div>"
      ],
      "text/plain": [
       "   TARGET  CNT_CHILDREN  AMT_INCOME_TOTAL  AMT_ANNUITY  AMT_GOODS_PRICE  \\\n",
       "0     1.0           0.0             0.615    -0.011205        -0.224490   \n",
       "1     0.0           0.0             1.365     0.597361         1.540816   \n",
       "2     0.0           0.0            -0.885    -1.004482        -0.714286   \n",
       "3     0.0           0.0            -0.135     0.264691        -0.346939   \n",
       "4     0.0           0.0            -0.285    -0.168078         0.142857   \n",
       "\n",
       "   REGION_POPULATION_RELATIVE  YEARS_BIRTH  YEARS_EMPLOYED  OWN_CAR_AGE  \\\n",
       "0                   -0.002626    -0.865181       -0.865900          0.0   \n",
       "1                   -0.820550     0.139634       -0.564313          0.0   \n",
       "2                   -0.472638     0.453432       -1.091407          5.2   \n",
       "3                   -0.580533     0.447792        0.448823          0.0   \n",
       "4                    0.525969     0.575320        0.448276          0.0   \n",
       "\n",
       "   EXT_SOURCE_2  EXT_SOURCE_3  TOTALAREA_MODE  DEF_60_CNT_SOCIAL_CIRCLE  \\\n",
       "0     -1.120416     -1.538211       -8.985319                       2.0   \n",
       "1      0.208116     -0.525522        0.433429                       0.0   \n",
       "2     -0.037158      0.940050       -0.040147                       0.0   \n",
       "3      0.312373     -0.227633        0.000000                       0.0   \n",
       "4     -0.899338     -0.227633        0.000000                       0.0   \n",
       "\n",
       "   AMT_REQ_CREDIT_BUREAU_YEAR  OVERALL_REGION_RATING  LOAN_REPAYMENT_PERIOD  \\\n",
       "0                         0.0               0.000000              -0.308110   \n",
       "1                        -0.5               1.276422               1.413402   \n",
       "2                        -0.5               0.674252               0.000000   \n",
       "3                         0.0               1.037143              -0.824249   \n",
       "4                        -0.5              -0.265401               0.301382   \n",
       "\n",
       "   TOTAL_LOANS  AVG_REPAYMENT_DELAY  COUNT_PREVIOUS_LOANS  AVG_LOAN_AMOUNT  \\\n",
       "0     0.666667                  0.0                 -0.50         0.618981   \n",
       "1     0.000000                  0.0                  0.00         2.622489   \n",
       "2    -0.333333                  0.0                 -0.50        -0.590501   \n",
       "3    -0.666667                  0.0                  1.50         1.346894   \n",
       "4    -0.500000                  0.0                  0.75         0.396073   \n",
       "\n",
       "  NAME_CONTRACT_TYPE CODE_GENDER FLAG_OWN_CAR FLAG_OWN_REALTY  \\\n",
       "0         Cash loans           M            N               Y   \n",
       "1         Cash loans           F            N               N   \n",
       "2    Revolving loans           M            Y               Y   \n",
       "3         Cash loans           F            N               Y   \n",
       "4         Cash loans           M            N               Y   \n",
       "\n",
       "  NAME_INCOME_TYPE    NAME_FAMILY_STATUS  NAME_HOUSING_TYPE OCCUPATION_TYPE  \\\n",
       "0          Working  Single / not married  House / apartment        Laborers   \n",
       "1    State servant               Married  House / apartment      Core staff   \n",
       "2          Working  Single / not married  House / apartment        Laborers   \n",
       "3          Working        Civil marriage  House / apartment        Laborers   \n",
       "4          Working  Single / not married  House / apartment      Core staff   \n",
       "\n",
       "        ORGANIZATION_TYPE  \n",
       "0  Business Entity Type 3  \n",
       "1                  School  \n",
       "2              Government  \n",
       "3  Business Entity Type 3  \n",
       "4                Religion  "
      ]
     },
     "execution_count": 95,
     "metadata": {},
     "output_type": "execute_result"
    }
   ],
   "source": [
    "df_processed.head()"
   ]
  },
  {
   "cell_type": "markdown",
   "metadata": {},
   "source": [
    "## 4. Save Data"
   ]
  },
  {
   "cell_type": "markdown",
   "metadata": {},
   "source": [
    "    Save a checkpoint for the processed data "
   ]
  },
  {
   "cell_type": "code",
   "execution_count": 96,
   "metadata": {},
   "outputs": [],
   "source": [
    "df_processed.to_csv(f'{PROCESSED_DIR}\\df_processed_v0.2.csv')"
   ]
  },
  {
   "cell_type": "markdown",
   "metadata": {},
   "source": [
    "## 5. Train Model"
   ]
  },
  {
   "cell_type": "markdown",
   "metadata": {},
   "source": [
    "### 5.1 Split Data"
   ]
  },
  {
   "cell_type": "markdown",
   "metadata": {},
   "source": [
    "    Split the data into train and test data"
   ]
  },
  {
   "cell_type": "code",
   "execution_count": 97,
   "metadata": {},
   "outputs": [],
   "source": [
    "y = df_processed['TARGET']\n",
    "X = df_processed.drop(['TARGET'], axis=1)"
   ]
  },
  {
   "cell_type": "code",
   "execution_count": 98,
   "metadata": {},
   "outputs": [
    {
     "name": "stdout",
     "output_type": "stream",
     "text": [
      "X_train =  (230629, 28)  y_train =  (230629,)\n",
      "X_test  =  (76877, 28)  y_test  =  (76877,)\n"
     ]
    }
   ],
   "source": [
    "X_train, X_test, y_train, y_test = train_test_split(X, y, test_size= 0.25, random_state=42, stratify=y)\n",
    "print(\"X_train = \",X_train.shape ,\" y_train = \", y_train.shape)\n",
    "print(\"X_test  = \",X_test.shape ,\" y_test  = \", y_test.shape)"
   ]
  },
  {
   "cell_type": "code",
   "execution_count": 99,
   "metadata": {},
   "outputs": [
    {
     "data": {
      "text/plain": [
       "['NAME_CONTRACT_TYPE',\n",
       " 'CODE_GENDER',\n",
       " 'FLAG_OWN_CAR',\n",
       " 'FLAG_OWN_REALTY',\n",
       " 'NAME_INCOME_TYPE',\n",
       " 'NAME_FAMILY_STATUS',\n",
       " 'NAME_HOUSING_TYPE',\n",
       " 'OCCUPATION_TYPE',\n",
       " 'ORGANIZATION_TYPE']"
      ]
     },
     "execution_count": 99,
     "metadata": {},
     "output_type": "execute_result"
    }
   ],
   "source": [
    "categorical_columns"
   ]
  },
  {
   "cell_type": "markdown",
   "metadata": {},
   "source": [
    "### 5.2 Train Model"
   ]
  },
  {
   "cell_type": "code",
   "execution_count": 100,
   "metadata": {},
   "outputs": [],
   "source": [
    "# model = CatBoostClassifier( learning_rate=0.05, iterations=1100, cat_features=categorical_columns, auto_class_weights='Balanced', eval_metric='AUC', task_type=\"GPU\",  verbose=100)\n",
    "# model.fit(X_train, y_train, eval_set=(X_test, y_test))"
   ]
  },
  {
   "cell_type": "code",
   "execution_count": 101,
   "metadata": {},
   "outputs": [
    {
     "name": "stderr",
     "output_type": "stream",
     "text": [
      "Default metric period is 5 because AUC is/are not implemented for GPU\n"
     ]
    },
    {
     "name": "stdout",
     "output_type": "stream",
     "text": [
      "0:\ttest: 0.7049340\tbest: 0.7049340 (0)\ttotal: 121ms\tremaining: 1m 24s\n",
      "100:\ttest: 0.7509167\tbest: 0.7509167 (100)\ttotal: 10.4s\tremaining: 1m 1s\n",
      "200:\ttest: 0.7571812\tbest: 0.7571812 (200)\ttotal: 20.6s\tremaining: 51.1s\n",
      "300:\ttest: 0.7597075\tbest: 0.7597075 (300)\ttotal: 31s\tremaining: 41.1s\n",
      "400:\ttest: 0.7610704\tbest: 0.7610704 (400)\ttotal: 41.2s\tremaining: 30.7s\n",
      "500:\ttest: 0.7620431\tbest: 0.7620431 (500)\ttotal: 52.2s\tremaining: 20.7s\n",
      "600:\ttest: 0.7625263\tbest: 0.7625263 (600)\ttotal: 1m 4s\tremaining: 10.6s\n",
      "699:\ttest: 0.7631628\tbest: 0.7631628 (699)\ttotal: 1m 16s\tremaining: 0us\n",
      "bestTest = 0.7631627917\n",
      "bestIteration = 699\n"
     ]
    },
    {
     "data": {
      "text/plain": [
       "<catboost.core.CatBoostClassifier at 0x1f83623be50>"
      ]
     },
     "execution_count": 101,
     "metadata": {},
     "output_type": "execute_result"
    }
   ],
   "source": [
    "# Tuned the depth and the number of iterations \n",
    "model_2 = CatBoostClassifier(learning_rate=0.0515, iterations=700, cat_features=categorical_columns, auto_class_weights='Balanced', depth=5, random_seed=42, eval_metric='AUC', task_type=\"GPU\", verbose=100)\n",
    "model_2.fit(X_train, y_train, eval_set=(X_test, y_test))"
   ]
  },
  {
   "cell_type": "code",
   "execution_count": 102,
   "metadata": {},
   "outputs": [],
   "source": [
    "# param_grid = {\n",
    "#     'iterations': [ 1500,  950, 630, 400 ],\n",
    "#     'learning_rate': [0.01, 0.03, 0.05, 0.075],\n",
    "# }\n",
    "\n",
    "# # Perform the grid search\n",
    "# grid_search_result = model.grid_search(param_grid, X=X_train, y=y_train, cv=3, verbose=1)\n",
    "\n",
    "# # Print the best parameters\n",
    "# print(\"Best Parameters:\", grid_search_result['params'])"
   ]
  },
  {
   "cell_type": "code",
   "execution_count": 103,
   "metadata": {},
   "outputs": [],
   "source": [
    "# # Tuning some hyperparameters and observing their effect\n",
    "# model1 = CatBoostClassifier( iterations=1250, learning_rate=0.031, cat_features=cat_columns,auto_class_weights='Balanced',eval_metric=\"AUC\", task_type=\"GPU\", verbose=100)\n",
    "# model1.fit(X_train, y_train, eval_set=(X_test, y_test))"
   ]
  },
  {
   "cell_type": "markdown",
   "metadata": {},
   "source": [
    "### 5.3 Evaluation"
   ]
  },
  {
   "cell_type": "code",
   "execution_count": 108,
   "metadata": {},
   "outputs": [],
   "source": [
    "# # Evaluating the first model (model)  \n",
    "# y_pred_1 = model.predict(X_test)\n",
    "# print(\"CatBoost Model Evaluation Metrics:\")\n",
    "# print(classification_report(y_test, y_pred_1))\n",
    "# print(\"ROC AUC Score:\", roc_auc_score(y_test, model.predict_proba(X_test)[:, 1]))"
   ]
  },
  {
   "cell_type": "code",
   "execution_count": 105,
   "metadata": {},
   "outputs": [
    {
     "name": "stdout",
     "output_type": "stream",
     "text": [
      "CatBoost Model Evaluation Metrics:\n",
      "              precision    recall  f1-score   support\n",
      "\n",
      "         0.0       0.96      0.71      0.82     70671\n",
      "         1.0       0.17      0.68      0.27      6206\n",
      "\n",
      "    accuracy                           0.71     76877\n",
      "   macro avg       0.57      0.70      0.55     76877\n",
      "weighted avg       0.90      0.71      0.77     76877\n",
      "\n",
      "ROC AUC Score: 0.7631627636329994\n"
     ]
    }
   ],
   "source": [
    "# Evaluating model_2 which is trained after tuning hyperparameters \n",
    "y_pred_2 = model_2.predict(X_test)\n",
    "print(\"CatBoost Model Evaluation Metrics:\")\n",
    "print(classification_report(y_test, y_pred_2))\n",
    "print(\"ROC AUC Score:\", roc_auc_score(y_test, model_2.predict_proba(X_test)[:, 1]))"
   ]
  },
  {
   "cell_type": "code",
   "execution_count": 106,
   "metadata": {},
   "outputs": [
    {
     "data": {
      "image/png": "[encoded data removed]",
      "text/plain": [
       "<Figure size 800x600 with 1 Axes>"
      ]
     },
     "metadata": {},
     "output_type": "display_data"
    }
   ],
   "source": [
    "model_2_AUC= roc_auc_score(y_test, model_2.predict_proba(X_test)[:, 1])\n",
    "fpr, tpr, thresholds = roc_curve(y_test, y_pred_2)\n",
    "\n",
    "# Plot the ROC curve for model_2\n",
    "plt.figure(figsize=(8, 6))\n",
    "plt.plot(fpr, tpr, label=f'ROC Curve (AUC = {model_2_AUC:.2f})', color='green')\n",
    "plt.plot([0, 1], [0, 1], 'r--', label='Random Guess')  # Dashed diagonal for reference\n",
    "plt.xlabel('False Positive Rate')\n",
    "plt.ylabel('True Positive Rate')\n",
    "plt.title('Receiver Operating Characteristic (ROC) Curve')\n",
    "plt.legend(loc='lower right')\n",
    "plt.grid()\n",
    "plt.show()"
   ]
  },
  {
   "cell_type": "code",
   "execution_count": 119,
   "metadata": {},
   "outputs": [
    {
     "data": {
      "image/png": "[encoded data removed]",
      "text/plain": [
       "<Figure size 1000x600 with 1 Axes>"
      ]
     },
     "metadata": {},
     "output_type": "display_data"
    }
   ],
   "source": [
    "# Get feature importances\n",
    "feature_importance = pd.DataFrame({\n",
    "    'Feature': X_train.columns,\n",
    "    'Importance': model_2.get_feature_importance()\n",
    "})\n",
    "\n",
    "# Sort by importance\n",
    "feature_importance = feature_importance.sort_values(by='Importance', ascending=False)\n",
    "\n",
    "# Visualize the top 10 most significant features\n",
    "plt.figure(figsize=(10, 6))\n",
    "sns.barplot(\n",
    "    x='Importance',\n",
    "    y='Feature',\n",
    "    data=feature_importance.head(15)  # Select top 10 features\n",
    ")\n",
    "plt.title('Top 15 Most Significant Features')\n",
    "plt.xlabel('Importance Value')\n",
    "plt.ylabel('Feature')\n",
    "plt.show()\n"
   ]
  },
  {
   "cell_type": "markdown",
   "metadata": {},
   "source": [
    "### 5.4 Save Model"
   ]
  },
  {
   "cell_type": "markdown",
   "metadata": {},
   "source": [
    "    Save the best-trained model for deployment purposes."
   ]
  },
  {
   "cell_type": "code",
   "execution_count": 107,
   "metadata": {},
   "outputs": [],
   "source": [
    "model_2.save_model(f'{MODEL_DIR}\\catboost_model.cbm')"
   ]
  }
 ],
 "metadata": {
  "kernelspec": {
   "display_name": ".venv",
   "language": "python",
   "name": "python3"
  },
  "language_info": {
   "codemirror_mode": {
    "name": "ipython",
    "version": 3
   },
   "file_extension": ".py",
   "mimetype": "text/x-python",
   "name": "python",
   "nbconvert_exporter": "python",
   "pygments_lexer": "ipython3",
   "version": "3.10.11"
  }
 },
 "nbformat": 4,
 "nbformat_minor": 2
}
